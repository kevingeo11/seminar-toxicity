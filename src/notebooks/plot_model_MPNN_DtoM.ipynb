{
 "cells": [
  {
   "cell_type": "code",
   "execution_count": null,
   "metadata": {},
   "outputs": [],
   "source": [
    "import numpy as np\n",
    "import pandas as pd\n",
    "import os\n",
    "\n",
    "from rdkit import Chem\n",
    "from rdkit.Chem import MACCSkeys, rdFingerprintGenerator\n",
    "from rdkit import DataStructs\n",
    "from wrapMordred import mordredWrapper\n",
    "\n",
    "import chemprop\n",
    "\n",
    "from sklearn import svm\n",
    "from sklearn.ensemble import RandomForestClassifier\n",
    "from sklearn.metrics import confusion_matrix\n",
    "import joblib\n",
    "\n",
    "import matplotlib.pyplot as plt"
   ]
  },
  {
   "cell_type": "code",
   "execution_count": null,
   "metadata": {},
   "outputs": [],
   "source": [
    "np.random.seed(1234)"
   ]
  },
  {
   "cell_type": "code",
   "execution_count": null,
   "metadata": {},
   "outputs": [],
   "source": [
    "# endpoint = 'skin-sensitization'\n",
    "endpoint = 'eye-irritation'\n",
    "\n",
    "loc = r'D:\\School\\Semester3\\Seminar - Reproducibility\\seminar-toxicity\\data'\n",
    "endpoint_loc = os.path.join(loc, endpoint)\n",
    "model = r'D:\\School\\Semester3\\Seminar - Reproducibility\\seminar-toxicity\\src\\models'\n",
    "model_loc = os.path.join(model, endpoint)"
   ]
  },
  {
   "cell_type": "code",
   "execution_count": null,
   "metadata": {},
   "outputs": [],
   "source": [
    "filename = 'train.csv'\n",
    "df_train = pd.read_csv(os.path.join(endpoint_loc, filename))"
   ]
  },
  {
   "cell_type": "code",
   "execution_count": null,
   "metadata": {},
   "outputs": [],
   "source": [
    "df_train.shape"
   ]
  },
  {
   "cell_type": "code",
   "execution_count": null,
   "metadata": {},
   "outputs": [],
   "source": [
    "df_train.head()"
   ]
  },
  {
   "cell_type": "code",
   "execution_count": null,
   "metadata": {},
   "outputs": [],
   "source": [
    "filename = 'val.csv'\n",
    "df_val = pd.read_csv(os.path.join(endpoint_loc, filename))"
   ]
  },
  {
   "cell_type": "code",
   "execution_count": null,
   "metadata": {},
   "outputs": [],
   "source": [
    "df_val.shape"
   ]
  },
  {
   "cell_type": "code",
   "execution_count": null,
   "metadata": {},
   "outputs": [],
   "source": [
    "df_val.head()"
   ]
  },
  {
   "cell_type": "code",
   "execution_count": null,
   "metadata": {},
   "outputs": [],
   "source": [
    "train_smiles = df_train['SMILES'].to_numpy()\n",
    "train_labels = df_train['Activity'].to_numpy()\n",
    "\n",
    "val_smiles = df_val['SMILES'].to_numpy()\n",
    "val_labels = df_val['Activity'].to_numpy()"
   ]
  },
  {
   "cell_type": "code",
   "execution_count": null,
   "metadata": {},
   "outputs": [],
   "source": [
    "print('val size smiles :', val_smiles.shape)\n",
    "print('val size labels :', val_labels.shape)\n",
    "print('pos samples in val size :', val_labels[val_labels == 1].shape)\n",
    "print('neg samples in val size :', val_labels[val_labels == 0].shape)"
   ]
  },
  {
   "cell_type": "code",
   "execution_count": null,
   "metadata": {},
   "outputs": [],
   "source": []
  },
  {
   "cell_type": "code",
   "execution_count": null,
   "metadata": {},
   "outputs": [],
   "source": [
    "def get_MPNN_pred(endpoint_loc, model_loc, val_smiles, val_labels, filename='val.csv'):\n",
    "    smiles_input = []\n",
    "    for smiles in val_smiles:\n",
    "        smiles_input.append([smiles])\n",
    "        \n",
    "    arguments = [\n",
    "        '--test_path', '/dev/null', \n",
    "        '--preds_path', '/dev/null',\n",
    "        '--checkpoint_dir', model_loc,\n",
    "        # '--smiles_columns', 'SMILES',\n",
    "        '--features_generator', 'rdkit_2d_normalized', \n",
    "        '--no_features_scaling'\n",
    "    ]\n",
    "\n",
    "    args = chemprop.args.PredictArgs().parse_args(arguments)\n",
    "    preds = chemprop.train.make_predictions(args=args, smiles=smiles_input)\n",
    "\n",
    "    # y_pred = (np.array(preds).flatten()[np.where(np.array(preds).flatten() != 'Invalid SMILES')].astype(np.float32) > 0.5).astype(np.int64)\n",
    "    y_pred = np.array(preds).flatten()[np.where(np.array(preds).flatten() != 'Invalid SMILES')].astype(np.float32)\n",
    "    y_true = val_labels[np.where(np.array(preds).flatten() != 'Invalid SMILES')]\n",
    "\n",
    "    # y_pred = (np.array(preds).flatten() > 0.5).astype(np.int64)\n",
    "    # y_true = val_labels\n",
    "\n",
    "    return y_pred, y_true"
   ]
  },
  {
   "cell_type": "code",
   "execution_count": null,
   "metadata": {},
   "outputs": [],
   "source": [
    "y_pred_MPNN, y_true_MPNN = get_MPNN_pred(endpoint_loc, model_loc, val_smiles, val_labels, 'val.csv')"
   ]
  },
  {
   "cell_type": "code",
   "execution_count": null,
   "metadata": {},
   "outputs": [],
   "source": [
    "y_pred_MPNN[0], y_true_MPNN[0]"
   ]
  },
  {
   "cell_type": "code",
   "execution_count": null,
   "metadata": {},
   "outputs": [],
   "source": [
    "def dist_to_model(pred, true, dist):\n",
    "    mask = np.logical_or(pred >= 1-dist, pred <= dist)\n",
    "\n",
    "    return (pred[mask] > 0.5).astype(np.int64) , true[mask], np.sum(mask)/pred.shape[0]"
   ]
  },
  {
   "cell_type": "code",
   "execution_count": null,
   "metadata": {},
   "outputs": [],
   "source": [
    "plt.figure()\n",
    "measurement = {}\n",
    "measurement['ACC'] = []\n",
    "measurement['SEN'] = []\n",
    "measurement['SPE'] = []\n",
    "coverage = []\n",
    "xlabels = []\n",
    "for dist in [0.1, 0.2, 0.3, 0.4, 0.5]:\n",
    "\n",
    "    y_pred, y_true, cov = dist_to_model(y_pred_MPNN, y_true_MPNN, dist)\n",
    "\n",
    "    tn, fp, fn, tp = confusion_matrix(y_pred, y_true).ravel()\n",
    "\n",
    "    ACC = (tp + tn)/(tp + tn + fn + fp)\n",
    "    SEN = tp/(tp + fn)\n",
    "    SPE = tn/(tn + fp)\n",
    "\n",
    "    xlabels.append(dist)\n",
    "    coverage.append(cov)\n",
    "    measurement['ACC'].append(ACC)\n",
    "    measurement['SEN'].append(SEN)\n",
    "    measurement['SPE'].append(SPE)\n",
    "\n",
    "x = np.arange(len(xlabels))  # the label locations\n",
    "width = 0.25  # the width of the bars\n",
    "multiplier = 0\n",
    "\n",
    "fig, ax = plt.subplots(layout='constrained')\n",
    "\n",
    "colours = ['blue', 'red', 'green']\n",
    "for key, value in measurement.items():\n",
    "    offset = width * multiplier\n",
    "    rects = ax.bar(x + offset, value, width, label=key, color=colours[multiplier])\n",
    "    multiplier += 1\n",
    "\n",
    "ax.plot(x+0.25, coverage, ls='--', marker='o', c='k')\n",
    "\n",
    "ax.set_title('Dist to MPNN Model')\n",
    "ax.set_xticks(x + width, xlabels)\n",
    "ax.set_yticks(np.arange(0,11)/10)\n",
    "ax.legend(loc='upper center', ncols=3)\n",
    "ax.set_ylim(0, 1)\n",
    "ax.set_axisbelow(True)\n",
    "ax.grid(axis='y')\n",
    "\n",
    "plt.show()"
   ]
  },
  {
   "cell_type": "code",
   "execution_count": null,
   "metadata": {},
   "outputs": [],
   "source": [
    "measurement"
   ]
  },
  {
   "cell_type": "code",
   "execution_count": null,
   "metadata": {},
   "outputs": [],
   "source": [
    "coverage"
   ]
  },
  {
   "cell_type": "code",
   "execution_count": null,
   "metadata": {},
   "outputs": [],
   "source": []
  }
 ],
 "metadata": {
  "kernelspec": {
   "display_name": "nextAID",
   "language": "python",
   "name": "nextaid"
  },
  "language_info": {
   "codemirror_mode": {
    "name": "ipython",
    "version": 3
   },
   "file_extension": ".py",
   "mimetype": "text/x-python",
   "name": "python",
   "nbconvert_exporter": "python",
   "pygments_lexer": "ipython3",
   "version": "3.10.6"
  }
 },
 "nbformat": 4,
 "nbformat_minor": 2
}

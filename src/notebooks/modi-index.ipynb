{
 "cells": [
  {
   "cell_type": "code",
   "execution_count": 1,
   "metadata": {},
   "outputs": [],
   "source": [
    "import numpy as np\n",
    "import pandas as pd\n",
    "import os\n",
    "\n",
    "from rdkit import Chem\n",
    "from rdkit.Chem import MACCSkeys, rdFingerprintGenerator\n",
    "from rdkit import DataStructs\n",
    "from mordred import Calculator, descriptors\n",
    "import mordred\n",
    "\n",
    "from tqdm import tqdm"
   ]
  },
  {
   "cell_type": "code",
   "execution_count": 2,
   "metadata": {},
   "outputs": [],
   "source": [
    "# endpoint = 'skin-sensitization'\n",
    "endpoint = 'eye-irritation'\n",
    "\n",
    "loc = r'D:\\School\\Semester3\\Seminar - Reproducibility\\seminar-toxicity\\data'\n",
    "endpoint_loc = os.path.join(loc, endpoint)"
   ]
  },
  {
   "cell_type": "code",
   "execution_count": 3,
   "metadata": {},
   "outputs": [],
   "source": [
    "filename = 'data.csv'\n",
    "df = pd.read_csv(os.path.join(endpoint_loc, filename))"
   ]
  },
  {
   "cell_type": "code",
   "execution_count": 4,
   "metadata": {},
   "outputs": [
    {
     "data": {
      "text/html": [
       "<div>\n",
       "<style scoped>\n",
       "    .dataframe tbody tr th:only-of-type {\n",
       "        vertical-align: middle;\n",
       "    }\n",
       "\n",
       "    .dataframe tbody tr th {\n",
       "        vertical-align: top;\n",
       "    }\n",
       "\n",
       "    .dataframe thead th {\n",
       "        text-align: right;\n",
       "    }\n",
       "</style>\n",
       "<table border=\"1\" class=\"dataframe\">\n",
       "  <thead>\n",
       "    <tr style=\"text-align: right;\">\n",
       "      <th></th>\n",
       "      <th>CASRN</th>\n",
       "      <th>SMILES</th>\n",
       "      <th>Activity</th>\n",
       "    </tr>\n",
       "  </thead>\n",
       "  <tbody>\n",
       "    <tr>\n",
       "      <th>0</th>\n",
       "      <td>51581-32-9</td>\n",
       "      <td>CN(C)C(=O)OC1C=CC=NC=1</td>\n",
       "      <td>1</td>\n",
       "    </tr>\n",
       "    <tr>\n",
       "      <th>1</th>\n",
       "      <td>35155-28-3</td>\n",
       "      <td>CN1C=C2CC3N(C)CC(CO)CC3(OC)C3C=CC=C1C=32</td>\n",
       "      <td>1</td>\n",
       "    </tr>\n",
       "    <tr>\n",
       "      <th>2</th>\n",
       "      <td>289-95-2</td>\n",
       "      <td>C1N=CC=CN=1</td>\n",
       "      <td>1</td>\n",
       "    </tr>\n",
       "    <tr>\n",
       "      <th>3</th>\n",
       "      <td>77-78-1</td>\n",
       "      <td>COS(=O)(=O)OC</td>\n",
       "      <td>1</td>\n",
       "    </tr>\n",
       "    <tr>\n",
       "      <th>4</th>\n",
       "      <td>80-73-9</td>\n",
       "      <td>CN1CCN(C)C1=O</td>\n",
       "      <td>1</td>\n",
       "    </tr>\n",
       "  </tbody>\n",
       "</table>\n",
       "</div>"
      ],
      "text/plain": [
       "        CASRN                                    SMILES  Activity\n",
       "0  51581-32-9                    CN(C)C(=O)OC1C=CC=NC=1         1\n",
       "1  35155-28-3  CN1C=C2CC3N(C)CC(CO)CC3(OC)C3C=CC=C1C=32         1\n",
       "2    289-95-2                               C1N=CC=CN=1         1\n",
       "3     77-78-1                             COS(=O)(=O)OC         1\n",
       "4     80-73-9                             CN1CCN(C)C1=O         1"
      ]
     },
     "execution_count": 4,
     "metadata": {},
     "output_type": "execute_result"
    }
   ],
   "source": [
    "df.head()"
   ]
  },
  {
   "cell_type": "markdown",
   "metadata": {},
   "source": [
    "#### MODI Index\n",
    "\n",
    "For Binary classification\n",
    "\n",
    "$$MODI = \\frac{1}{2} \\sum_{i=1}^2 \\frac{N_i^{same}}{N_i^{total}}$$"
   ]
  },
  {
   "cell_type": "code",
   "execution_count": 5,
   "metadata": {},
   "outputs": [],
   "source": [
    "def customTanimoto(a, b):\n",
    "    return np.sum(a*b)/(np.sum(a**2) + np.sum(b**2) - np.sum(a*b))\n",
    "\n",
    "def getMODIindex(df, fps, fp = 'rdkit'):\n",
    "    '''\n",
    "        df should contain the followinng columns\n",
    "        SMILES - smiles string\n",
    "        Activity - respective classification\n",
    "    '''\n",
    "    modified_df = df.copy()\n",
    "    modified_df['fps'] = fps\n",
    "\n",
    "    Modi = 0\n",
    "    for activity in modified_df['Activity'].unique():\n",
    "        temp_df = modified_df[modified_df['Activity'] == activity]\n",
    "        Ni_same = 0\n",
    "        Ni_total = 0\n",
    "        for i in tqdm(range(temp_df.shape[0])):\n",
    "            sim = []\n",
    "            if temp_df['fps'].iloc[i] is None:\n",
    "                continue\n",
    "            for j in range(modified_df.shape[0]):\n",
    "                if modified_df['fps'].iloc[j] is None:\n",
    "                    continue\n",
    "                if temp_df['SMILES'].iloc[i] != modified_df['SMILES'].iloc[j]:\n",
    "                    if fp == 'rdkit':\n",
    "                        sim.append((DataStructs.TanimotoSimilarity(temp_df['fps'].iloc[i], modified_df['fps'].iloc[j]),\n",
    "                                    temp_df['Activity'].iloc[i] == modified_df['Activity'].iloc[j]))\n",
    "                    else:\n",
    "                        sim.append((customTanimoto(temp_df['fps'].iloc[i], modified_df['fps'].iloc[j]), \n",
    "                                    temp_df['Activity'].iloc[i] == modified_df['Activity'].iloc[j]))\n",
    "            \n",
    "            max_element = max(sim, key = lambda x: x[0])\n",
    "\n",
    "            if max_element[1]:\n",
    "                Ni_same += 1\n",
    "            Ni_total += 1\n",
    "\n",
    "        Modi += Ni_same/Ni_total\n",
    "\n",
    "    Modi = Modi/len(modified_df['Activity'].unique())\n",
    "\n",
    "    return Modi"
   ]
  },
  {
   "cell_type": "markdown",
   "metadata": {},
   "source": [
    "##### Using MACCS"
   ]
  },
  {
   "cell_type": "code",
   "execution_count": 6,
   "metadata": {},
   "outputs": [
    {
     "name": "stderr",
     "output_type": "stream",
     "text": [
      "[10:04:54] Can't kekulize mol.  Unkekulized atoms: 0 1 2 3 4\n",
      "[10:04:54] Can't kekulize mol.  Unkekulized atoms: 5 6 7 9 10 11 12 13 14 15 16 17 18\n",
      "[10:04:54] Can't kekulize mol.  Unkekulized atoms: 10 11 12 13 15 16 17 19 20 21 25 27 28\n",
      "[10:04:55] Can't kekulize mol.  Unkekulized atoms: 1 2 3 4 5 6 7 9 10 11 13 14 15\n",
      "[10:04:55] Can't kekulize mol.  Unkekulized atoms: 10 11 12 13 14 15 16 18 19 20 21 22 23\n",
      "[10:04:55] Can't kekulize mol.  Unkekulized atoms: 5 6 7 9 10 11 12 13 14 15 16 17 18\n"
     ]
    }
   ],
   "source": [
    "'''\n",
    "    Using MACCS Fingerprints\n",
    "'''\n",
    "fps = []\n",
    "for smiles in df['SMILES']:\n",
    "    mol = Chem.MolFromSmiles(smiles)\n",
    "    if mol is None:\n",
    "        fps.append(None)\n",
    "    else:\n",
    "        fps.append(MACCSkeys.GenMACCSKeys(mol))\n",
    "\n",
    "assert len(fps) == df.shape[0]"
   ]
  },
  {
   "cell_type": "code",
   "execution_count": 7,
   "metadata": {},
   "outputs": [
    {
     "name": "stderr",
     "output_type": "stream",
     "text": [
      "100%|██████████| 2652/2652 [07:50<00:00,  5.63it/s]\n",
      "100%|██████████| 1225/1225 [03:24<00:00,  5.99it/s]"
     ]
    },
    {
     "name": "stdout",
     "output_type": "stream",
     "text": [
      "Modi for MACCS Keys : 0.6918367346938776\n"
     ]
    },
    {
     "name": "stderr",
     "output_type": "stream",
     "text": [
      "\n"
     ]
    }
   ],
   "source": [
    "Modi = getMODIindex(df, fps)\n",
    "print('Modi for MACCS Keys :', Modi)"
   ]
  },
  {
   "cell_type": "markdown",
   "metadata": {},
   "source": [
    "##### Using Morgan"
   ]
  },
  {
   "cell_type": "code",
   "execution_count": 8,
   "metadata": {},
   "outputs": [
    {
     "name": "stderr",
     "output_type": "stream",
     "text": [
      "[10:16:13] Can't kekulize mol.  Unkekulized atoms: 0 1 2 3 4\n",
      "[10:16:13] Can't kekulize mol.  Unkekulized atoms: 5 6 7 9 10 11 12 13 14 15 16 17 18\n",
      "[10:16:13] Can't kekulize mol.  Unkekulized atoms: 10 11 12 13 15 16 17 19 20 21 25 27 28\n",
      "[10:16:13] Can't kekulize mol.  Unkekulized atoms: 1 2 3 4 5 6 7 9 10 11 13 14 15\n",
      "[10:16:13] Can't kekulize mol.  Unkekulized atoms: 10 11 12 13 14 15 16 18 19 20 21 22 23\n",
      "[10:16:13] Can't kekulize mol.  Unkekulized atoms: 5 6 7 9 10 11 12 13 14 15 16 17 18\n"
     ]
    }
   ],
   "source": [
    "'''\n",
    "    Using Morgan Fingerprints r = 3 and nbits = 2048\n",
    "'''\n",
    "fpg = rdFingerprintGenerator.GetMorganGenerator(radius=3, fpSize=2048)\n",
    "fps = []\n",
    "for smiles in df['SMILES']:\n",
    "    mol = Chem.MolFromSmiles(smiles)\n",
    "    if mol is None:\n",
    "        fps.append(None)\n",
    "    else:\n",
    "        fps.append(fpg.GetFingerprint(mol))\n",
    "\n",
    "assert len(fps) == df.shape[0]"
   ]
  },
  {
   "cell_type": "code",
   "execution_count": 9,
   "metadata": {},
   "outputs": [
    {
     "name": "stderr",
     "output_type": "stream",
     "text": [
      "100%|██████████| 2652/2652 [07:22<00:00,  6.00it/s]\n",
      "100%|██████████| 1225/1225 [03:26<00:00,  5.94it/s]"
     ]
    },
    {
     "name": "stdout",
     "output_type": "stream",
     "text": [
      "Modi for Morgan fingerprints : 0.700597127739985\n"
     ]
    },
    {
     "name": "stderr",
     "output_type": "stream",
     "text": [
      "\n"
     ]
    }
   ],
   "source": [
    "Modi = getMODIindex(df, fps)\n",
    "print('Modi for Morgan fingerprints :', Modi)"
   ]
  },
  {
   "cell_type": "markdown",
   "metadata": {},
   "source": [
    "##### Using MORDRED"
   ]
  },
  {
   "cell_type": "code",
   "execution_count": 10,
   "metadata": {},
   "outputs": [
    {
     "name": "stderr",
     "output_type": "stream",
     "text": [
      "[10:27:02] Can't kekulize mol.  Unkekulized atoms: 0 1 2 3 4\n",
      "[10:27:02] Can't kekulize mol.  Unkekulized atoms: 5 6 7 9 10 11 12 13 14 15 16 17 18\n",
      "[10:27:02] Can't kekulize mol.  Unkekulized atoms: 10 11 12 13 15 16 17 19 20 21 25 27 28\n",
      "[10:27:02] Can't kekulize mol.  Unkekulized atoms: 1 2 3 4 5 6 7 9 10 11 13 14 15\n",
      "[10:27:02] Can't kekulize mol.  Unkekulized atoms: 10 11 12 13 14 15 16 18 19 20 21 22 23\n",
      "[10:27:02] Can't kekulize mol.  Unkekulized atoms: 5 6 7 9 10 11 12 13 14 15 16 17 18\n"
     ]
    }
   ],
   "source": [
    "calc = Calculator(descriptors, ignore_3D=True)\n",
    "mol_list = []\n",
    "for smiles in df['SMILES']:\n",
    "    mol = Chem.MolFromSmiles(smiles)\n",
    "    if mol is None:\n",
    "        continue\n",
    "    else:\n",
    "        mol_list.append(mol)"
   ]
  },
  {
   "cell_type": "code",
   "execution_count": 11,
   "metadata": {},
   "outputs": [
    {
     "name": "stderr",
     "output_type": "stream",
     "text": [
      "  2%|▏         | 83/3871 [00:04<02:33, 24.65it/s] "
     ]
    },
    {
     "name": "stdout",
     "output_type": "stream",
     "text": [
      "c:\\Users\\kevin\\nextAID\\lib\\site-packages\\numpy\\core\\fromnumeric.py:86: RuntimeWarning: overflow encountered in reduce\n",
      "  return ufunc.reduce(obj, axis, dtype, out, **passkwargs)\n"
     ]
    },
    {
     "name": "stderr",
     "output_type": "stream",
     "text": [
      "  4%|▎         | 142/3871 [00:06<01:39, 37.53it/s]"
     ]
    },
    {
     "name": "stdout",
     "output_type": "stream",
     "text": [
      "c:\\Users\\kevin\\nextAID\\lib\\site-packages\\numpy\\core\\fromnumeric.py:86: RuntimeWarning: overflow encountered in reduce\n",
      "  return ufunc.reduce(obj, axis, dtype, out, **passkwargs)\n"
     ]
    },
    {
     "name": "stderr",
     "output_type": "stream",
     "text": [
      "  5%|▌         | 205/3871 [00:09<03:35, 16.99it/s]"
     ]
    },
    {
     "name": "stdout",
     "output_type": "stream",
     "text": [
      "c:\\Users\\kevin\\nextAID\\lib\\site-packages\\numpy\\core\\fromnumeric.py:86: RuntimeWarning: overflow encountered in reduce\n",
      "  return ufunc.reduce(obj, axis, dtype, out, **passkwargs)\n"
     ]
    },
    {
     "name": "stderr",
     "output_type": "stream",
     "text": [
      "  6%|▋         | 245/3871 [00:10<02:24, 25.16it/s]"
     ]
    },
    {
     "name": "stdout",
     "output_type": "stream",
     "text": [
      "c:\\Users\\kevin\\nextAID\\lib\\site-packages\\numpy\\core\\fromnumeric.py:86: RuntimeWarning: overflow encountered in reduce\n",
      "  return ufunc.reduce(obj, axis, dtype, out, **passkwargs)\n"
     ]
    },
    {
     "name": "stderr",
     "output_type": "stream",
     "text": [
      " 16%|█▋        | 636/3871 [00:22<01:47, 30.15it/s]"
     ]
    },
    {
     "name": "stdout",
     "output_type": "stream",
     "text": [
      "c:\\Users\\kevin\\nextAID\\lib\\site-packages\\numpy\\core\\fromnumeric.py:86: RuntimeWarning: overflow encountered in reduce\n",
      "  return ufunc.reduce(obj, axis, dtype, out, **passkwargs)\n"
     ]
    },
    {
     "name": "stderr",
     "output_type": "stream",
     "text": [
      " 22%|██▏       | 861/3871 [00:29<01:28, 34.14it/s]"
     ]
    },
    {
     "name": "stdout",
     "output_type": "stream",
     "text": [
      "c:\\Users\\kevin\\nextAID\\lib\\site-packages\\numpy\\core\\fromnumeric.py:86: RuntimeWarning: overflow encountered in reduce\n",
      "  return ufunc.reduce(obj, axis, dtype, out, **passkwargs)\n"
     ]
    },
    {
     "name": "stderr",
     "output_type": "stream",
     "text": [
      " 33%|███▎      | 1282/3871 [00:42<02:01, 21.39it/s]"
     ]
    },
    {
     "name": "stdout",
     "output_type": "stream",
     "text": [
      "c:\\Users\\kevin\\nextAID\\lib\\site-packages\\numpy\\core\\fromnumeric.py:86: RuntimeWarning: overflow encountered in reduce\n",
      "  return ufunc.reduce(obj, axis, dtype, out, **passkwargs)\n"
     ]
    },
    {
     "name": "stderr",
     "output_type": "stream",
     "text": [
      " 87%|████████▋ | 3375/3871 [01:58<00:32, 15.49it/s]"
     ]
    },
    {
     "name": "stdout",
     "output_type": "stream",
     "text": [
      "c:\\Users\\kevin\\nextAID\\lib\\site-packages\\numpy\\core\\fromnumeric.py:86: RuntimeWarning: overflow encountered in reduce\n",
      "  return ufunc.reduce(obj, axis, dtype, out, **passkwargs)\n"
     ]
    },
    {
     "name": "stderr",
     "output_type": "stream",
     "text": [
      "100%|██████████| 3871/3871 [02:19<00:00, 27.72it/s]\n"
     ]
    }
   ],
   "source": [
    "df_mordred = calc.pandas(mol_list)"
   ]
  },
  {
   "cell_type": "code",
   "execution_count": 12,
   "metadata": {},
   "outputs": [
    {
     "data": {
      "text/plain": [
       "(3871, 1613)"
      ]
     },
     "execution_count": 12,
     "metadata": {},
     "output_type": "execute_result"
    }
   ],
   "source": [
    "df_mordred.shape"
   ]
  },
  {
   "cell_type": "code",
   "execution_count": 13,
   "metadata": {},
   "outputs": [],
   "source": [
    "truth_map = df_mordred.applymap(lambda x : not isinstance(x, mordred.error.MissingValueBase))"
   ]
  },
  {
   "cell_type": "code",
   "execution_count": 14,
   "metadata": {},
   "outputs": [],
   "source": [
    "truth_series = truth_map.all(axis=0)"
   ]
  },
  {
   "cell_type": "code",
   "execution_count": 15,
   "metadata": {},
   "outputs": [
    {
     "data": {
      "text/plain": [
       "ABC          True\n",
       "ABCGG        True\n",
       "nAcid        True\n",
       "nBase        True\n",
       "SpAbs_A      True\n",
       "            ...  \n",
       "WPol         True\n",
       "Zagreb1      True\n",
       "Zagreb2      True\n",
       "mZagreb1    False\n",
       "mZagreb2     True\n",
       "Length: 1613, dtype: bool"
      ]
     },
     "execution_count": 15,
     "metadata": {},
     "output_type": "execute_result"
    }
   ],
   "source": [
    "truth_series"
   ]
  },
  {
   "cell_type": "code",
   "execution_count": 16,
   "metadata": {},
   "outputs": [
    {
     "data": {
      "text/plain": [
       "945"
      ]
     },
     "execution_count": 16,
     "metadata": {},
     "output_type": "execute_result"
    }
   ],
   "source": [
    "truth_series.sum()"
   ]
  },
  {
   "cell_type": "code",
   "execution_count": 17,
   "metadata": {},
   "outputs": [
    {
     "name": "stderr",
     "output_type": "stream",
     "text": [
      "  1%|          | 42/3877 [00:03<04:23, 14.58it/s][10:29:31] Can't kekulize mol.  Unkekulized atoms: 0 1 2 3 4\n",
      "  1%|▏         | 55/3877 [00:04<04:21, 14.64it/s]c:\\Users\\kevin\\nextAID\\lib\\site-packages\\numpy\\core\\fromnumeric.py:86: RuntimeWarning: overflow encountered in reduce\n",
      "  return ufunc.reduce(obj, axis, dtype, out, **passkwargs)\n",
      "  4%|▎         | 142/3877 [00:11<03:33, 17.48it/s][10:29:39] Can't kekulize mol.  Unkekulized atoms: 5 6 7 9 10 11 12 13 14 15 16 17 18\n",
      " 14%|█▎        | 533/3877 [00:46<04:36, 12.12it/s][10:30:14] Can't kekulize mol.  Unkekulized atoms: 10 11 12 13 15 16 17 19 20 21 25 27 28\n",
      " 24%|██▍       | 933/3877 [01:20<04:49, 10.18it/s][10:30:48] Can't kekulize mol.  Unkekulized atoms: 1 2 3 4 5 6 7 9 10 11 13 14 15\n",
      " 27%|██▋       | 1030/3877 [01:27<02:37, 18.12it/s][10:30:55] Can't kekulize mol.  Unkekulized atoms: 10 11 12 13 14 15 16 18 19 20 21 22 23\n",
      " 33%|███▎      | 1272/3877 [01:45<03:31, 12.30it/s][10:31:13] Can't kekulize mol.  Unkekulized atoms: 5 6 7 9 10 11 12 13 14 15 16 17 18\n",
      "100%|██████████| 3877/3877 [06:03<00:00, 10.67it/s]\n"
     ]
    }
   ],
   "source": [
    "'''\n",
    "    Using Mordred Fingerprints\n",
    "'''\n",
    "fps = []\n",
    "for smiles in tqdm(df['SMILES']):\n",
    "    mol = Chem.MolFromSmiles(smiles)\n",
    "    if mol is None:\n",
    "        fps.append(None)\n",
    "    else:\n",
    "        fps.append(np.array(calc(mol))[truth_series.to_numpy()])\n",
    "\n",
    "assert len(fps) == df.shape[0]"
   ]
  },
  {
   "cell_type": "code",
   "execution_count": 18,
   "metadata": {},
   "outputs": [
    {
     "name": "stderr",
     "output_type": "stream",
     "text": [
      "100%|██████████| 2652/2652 [1:47:25<00:00,  2.43s/it]\n",
      "100%|██████████| 1225/1225 [56:54<00:00,  2.79s/it]"
     ]
    },
    {
     "name": "stdout",
     "output_type": "stream",
     "text": [
      "Modi for Mordred fingerprints : 0.6169538926681783\n"
     ]
    },
    {
     "name": "stderr",
     "output_type": "stream",
     "text": [
      "\n"
     ]
    }
   ],
   "source": [
    "Modi = getMODIindex(df, fps, fp='custom')\n",
    "print('Modi for Mordred fingerprints :', Modi)"
   ]
  },
  {
   "cell_type": "markdown",
   "metadata": {},
   "source": [
    "##### Skin Sensitization\n",
    "\n",
    "Modi index for Maccs keys = 0.6629 \\\n",
    "Modi index for Morgan keys = 0.6571 \\\n",
    "Modi index for Mordred keys = 0.5681"
   ]
  },
  {
   "cell_type": "markdown",
   "metadata": {},
   "source": [
    "##### Eye irritation\n",
    "\n",
    "Modi index for Maccs keys = 0.6918 \\\n",
    "Modi index for Morgan keys = 0.7006 \\\n",
    "Modi index for Mordred keys = 0.6169"
   ]
  },
  {
   "cell_type": "markdown",
   "metadata": {},
   "source": []
  }
 ],
 "metadata": {
  "kernelspec": {
   "display_name": "nextAID",
   "language": "python",
   "name": "nextaid"
  },
  "language_info": {
   "codemirror_mode": {
    "name": "ipython",
    "version": 3
   },
   "file_extension": ".py",
   "mimetype": "text/x-python",
   "name": "python",
   "nbconvert_exporter": "python",
   "pygments_lexer": "ipython3",
   "version": "3.10.6"
  }
 },
 "nbformat": 4,
 "nbformat_minor": 2
}

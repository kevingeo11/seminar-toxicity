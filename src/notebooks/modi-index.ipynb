{
 "cells": [
  {
   "cell_type": "code",
   "execution_count": 1,
   "metadata": {},
   "outputs": [],
   "source": [
    "import numpy as np\n",
    "import pandas as pd\n",
    "import os\n",
    "\n",
    "from rdkit import Chem\n",
    "from rdkit.Chem import MACCSkeys, rdFingerprintGenerator\n",
    "from rdkit import DataStructs\n",
    "from mordred import Calculator, descriptors"
   ]
  },
  {
   "cell_type": "code",
   "execution_count": 2,
   "metadata": {},
   "outputs": [],
   "source": [
    "# endpoint = 'skin-sensitization'\n",
    "endpoint = 'eye-irritation'\n",
    "\n",
    "loc = r'D:\\School\\Semester3\\Seminar - Reproducibility\\seminar-toxicity\\data'\n",
    "endpoint_loc = os.path.join(loc, endpoint)"
   ]
  },
  {
   "cell_type": "code",
   "execution_count": 3,
   "metadata": {},
   "outputs": [],
   "source": [
    "filename = 'data.csv'\n",
    "df = pd.read_csv(os.path.join(endpoint_loc, filename))"
   ]
  },
  {
   "cell_type": "code",
   "execution_count": 4,
   "metadata": {},
   "outputs": [
    {
     "data": {
      "text/html": [
       "<div>\n",
       "<style scoped>\n",
       "    .dataframe tbody tr th:only-of-type {\n",
       "        vertical-align: middle;\n",
       "    }\n",
       "\n",
       "    .dataframe tbody tr th {\n",
       "        vertical-align: top;\n",
       "    }\n",
       "\n",
       "    .dataframe thead th {\n",
       "        text-align: right;\n",
       "    }\n",
       "</style>\n",
       "<table border=\"1\" class=\"dataframe\">\n",
       "  <thead>\n",
       "    <tr style=\"text-align: right;\">\n",
       "      <th></th>\n",
       "      <th>CASRN</th>\n",
       "      <th>SMILES</th>\n",
       "      <th>Activity</th>\n",
       "    </tr>\n",
       "  </thead>\n",
       "  <tbody>\n",
       "    <tr>\n",
       "      <th>0</th>\n",
       "      <td>51581-32-9</td>\n",
       "      <td>CN(C)C(=O)OC1C=CC=NC=1</td>\n",
       "      <td>1</td>\n",
       "    </tr>\n",
       "    <tr>\n",
       "      <th>1</th>\n",
       "      <td>35155-28-3</td>\n",
       "      <td>CN1C=C2CC3N(C)CC(CO)CC3(OC)C3C=CC=C1C=32</td>\n",
       "      <td>1</td>\n",
       "    </tr>\n",
       "    <tr>\n",
       "      <th>2</th>\n",
       "      <td>289-95-2</td>\n",
       "      <td>C1N=CC=CN=1</td>\n",
       "      <td>1</td>\n",
       "    </tr>\n",
       "    <tr>\n",
       "      <th>3</th>\n",
       "      <td>77-78-1</td>\n",
       "      <td>COS(=O)(=O)OC</td>\n",
       "      <td>1</td>\n",
       "    </tr>\n",
       "    <tr>\n",
       "      <th>4</th>\n",
       "      <td>80-73-9</td>\n",
       "      <td>CN1CCN(C)C1=O</td>\n",
       "      <td>1</td>\n",
       "    </tr>\n",
       "  </tbody>\n",
       "</table>\n",
       "</div>"
      ],
      "text/plain": [
       "        CASRN                                    SMILES  Activity\n",
       "0  51581-32-9                    CN(C)C(=O)OC1C=CC=NC=1         1\n",
       "1  35155-28-3  CN1C=C2CC3N(C)CC(CO)CC3(OC)C3C=CC=C1C=32         1\n",
       "2    289-95-2                               C1N=CC=CN=1         1\n",
       "3     77-78-1                             COS(=O)(=O)OC         1\n",
       "4     80-73-9                             CN1CCN(C)C1=O         1"
      ]
     },
     "execution_count": 4,
     "metadata": {},
     "output_type": "execute_result"
    }
   ],
   "source": [
    "df.head()"
   ]
  },
  {
   "cell_type": "markdown",
   "metadata": {},
   "source": [
    "#### MODI Index\n",
    "\n",
    "For Binary classification\n",
    "\n",
    "$$MODI = \\frac{1}{2} \\sum_{i=1}^2 \\frac{N_i^{same}}{N_i^{total}}$$"
   ]
  },
  {
   "cell_type": "code",
   "execution_count": 5,
   "metadata": {},
   "outputs": [],
   "source": [
    "def customTanimoto(a, b):\n",
    "    return np.sum(a*b)/(np.sum(a**2) + np.sum(b**2) - np.sum(a*b))\n",
    "\n",
    "def getMODIindex(df, fps, fp = 'rdkit'):\n",
    "    '''\n",
    "        df should contain the followinng columns\n",
    "        SMILES - smiles string\n",
    "        Activity - respective classification\n",
    "    '''\n",
    "    modified_df = df.copy()\n",
    "    modified_df['fps'] = fps\n",
    "\n",
    "    Modi = 0\n",
    "    for activity in modified_df['Activity'].unique():\n",
    "        temp_df = modified_df[modified_df['Activity'] == activity]\n",
    "        Ni_same = 0\n",
    "        Ni_total = 0\n",
    "        for i in range(temp_df.shape[0]):\n",
    "            sim = []\n",
    "            if temp_df['fps'].iloc[i] is None:\n",
    "                continue\n",
    "            for j in range(modified_df.shape[0]):\n",
    "                if modified_df['fps'].iloc[j] is None:\n",
    "                    continue\n",
    "                if temp_df['SMILES'].iloc[i] != modified_df['SMILES'].iloc[j]:\n",
    "                    if fp == 'rdkit':\n",
    "                        sim.append((DataStructs.TanimotoSimilarity(temp_df['fps'].iloc[i], modified_df['fps'].iloc[j]),\n",
    "                                    temp_df['Activity'].iloc[i] == modified_df['Activity'].iloc[j]))\n",
    "                    else:\n",
    "                        sim.append((customTanimoto(temp_df['fps'].iloc[i], modified_df['fps'].iloc[j]), \n",
    "                                    temp_df['Activity'].iloc[i] == modified_df['Activity'].iloc[j]))\n",
    "            \n",
    "            max_element = max(sim, key = lambda x: x[0])\n",
    "\n",
    "            if max_element[1]:\n",
    "                Ni_same += 1\n",
    "            Ni_total += 1\n",
    "\n",
    "        Modi += Ni_same/Ni_total\n",
    "\n",
    "    Modi = Modi/len(modified_df['Activity'].unique())\n",
    "\n",
    "    return Modi"
   ]
  },
  {
   "cell_type": "code",
   "execution_count": 6,
   "metadata": {},
   "outputs": [
    {
     "name": "stderr",
     "output_type": "stream",
     "text": [
      "[22:14:25] Can't kekulize mol.  Unkekulized atoms: 0 1 2 3 4\n",
      "[22:14:25] Can't kekulize mol.  Unkekulized atoms: 5 6 7 9 10 11 12 13 14 15 16 17 18\n",
      "[22:14:25] Can't kekulize mol.  Unkekulized atoms: 10 11 12 13 15 16 17 19 20 21 25 27 28\n",
      "[22:14:26] Can't kekulize mol.  Unkekulized atoms: 1 2 3 4 5 6 7 9 10 11 13 14 15\n",
      "[22:14:26] Can't kekulize mol.  Unkekulized atoms: 10 11 12 13 14 15 16 18 19 20 21 22 23\n",
      "[22:14:26] Can't kekulize mol.  Unkekulized atoms: 5 6 7 9 10 11 12 13 14 15 16 17 18\n"
     ]
    }
   ],
   "source": [
    "'''\n",
    "    Using MACCS Fingerprints\n",
    "'''\n",
    "fps = []\n",
    "for smiles in df['SMILES']:\n",
    "    mol = Chem.MolFromSmiles(smiles)\n",
    "    if mol is None:\n",
    "        fps.append(None)\n",
    "    else:\n",
    "        fps.append(MACCSkeys.GenMACCSKeys(mol))\n",
    "\n",
    "assert len(fps) == df.shape[0]"
   ]
  },
  {
   "cell_type": "code",
   "execution_count": 7,
   "metadata": {},
   "outputs": [
    {
     "name": "stdout",
     "output_type": "stream",
     "text": [
      "Modi for MACCS Keys : 0.6918367346938776\n"
     ]
    }
   ],
   "source": [
    "Modi = getMODIindex(df, fps)\n",
    "print('Modi for MACCS Keys :', Modi)"
   ]
  },
  {
   "cell_type": "code",
   "execution_count": 8,
   "metadata": {},
   "outputs": [
    {
     "name": "stderr",
     "output_type": "stream",
     "text": [
      "[22:30:20] Can't kekulize mol.  Unkekulized atoms: 0 1 2 3 4\n",
      "[22:30:20] Can't kekulize mol.  Unkekulized atoms: 5 6 7 9 10 11 12 13 14 15 16 17 18\n",
      "[22:30:20] Can't kekulize mol.  Unkekulized atoms: 10 11 12 13 15 16 17 19 20 21 25 27 28\n",
      "[22:30:20] Can't kekulize mol.  Unkekulized atoms: 1 2 3 4 5 6 7 9 10 11 13 14 15\n",
      "[22:30:20] Can't kekulize mol.  Unkekulized atoms: 10 11 12 13 14 15 16 18 19 20 21 22 23\n",
      "[22:30:20] Can't kekulize mol.  Unkekulized atoms: 5 6 7 9 10 11 12 13 14 15 16 17 18\n"
     ]
    }
   ],
   "source": [
    "'''\n",
    "    Using Morgan Fingerprints r = 3 and nbits = 2048\n",
    "'''\n",
    "fpg = rdFingerprintGenerator.GetMorganGenerator(radius=3, fpSize=2048)\n",
    "fps = []\n",
    "for smiles in df['SMILES']:\n",
    "    mol = Chem.MolFromSmiles(smiles)\n",
    "    if mol is None:\n",
    "        fps.append(None)\n",
    "    else:\n",
    "        fps.append(fpg.GetFingerprint(mol))\n",
    "\n",
    "assert len(fps) == df.shape[0]"
   ]
  },
  {
   "cell_type": "code",
   "execution_count": 9,
   "metadata": {},
   "outputs": [
    {
     "name": "stdout",
     "output_type": "stream",
     "text": [
      "Modi for Morgan fingerprints : 0.700597127739985\n"
     ]
    }
   ],
   "source": [
    "Modi = getMODIindex(df, fps)\n",
    "print('Modi for Morgan fingerprints :', Modi)"
   ]
  },
  {
   "cell_type": "code",
   "execution_count": null,
   "metadata": {},
   "outputs": [],
   "source": [
    "'''\n",
    "    Using Mordred Fingerprints\n",
    "'''\n",
    "calc = Calculator(descriptors, ignore_3D=True)\n",
    "fps = []\n",
    "for smiles in df['SMILES']:\n",
    "    mol = Chem.MolFromSmiles(smiles)\n",
    "    if mol is None:\n",
    "        fps.append(None)\n",
    "    else:\n",
    "        fps.append(np.array(calc(mol)))\n",
    "\n",
    "assert len(fps) == df.shape[0]"
   ]
  },
  {
   "cell_type": "code",
   "execution_count": null,
   "metadata": {},
   "outputs": [],
   "source": [
    "customTanimoto(fps[0], fps[1])"
   ]
  },
  {
   "cell_type": "code",
   "execution_count": null,
   "metadata": {},
   "outputs": [],
   "source": [
    "Modi = getMODIindex(df, fps, fp='custom')\n",
    "print('Modi for Mordred fingerprints :', Modi)"
   ]
  },
  {
   "cell_type": "markdown",
   "metadata": {},
   "source": [
    "##### Skin Sensitization\n",
    "\n",
    "Modi index for Maccs keys = 0.6629 \\\n",
    "Modi index for Morgan keys = 0.6571 \\\n",
    "Modi index for Mordred keys = -"
   ]
  },
  {
   "cell_type": "markdown",
   "metadata": {},
   "source": [
    "##### Eye irritation\n",
    "\n",
    "Modi index for Maccs keys = 0.6918 \\\n",
    "Modi index for Morgan keys = 0.7006 \\\n",
    "Modi index for Mordred keys = "
   ]
  },
  {
   "cell_type": "code",
   "execution_count": null,
   "metadata": {},
   "outputs": [],
   "source": []
  }
 ],
 "metadata": {
  "kernelspec": {
   "display_name": "nextAID",
   "language": "python",
   "name": "nextaid"
  },
  "language_info": {
   "codemirror_mode": {
    "name": "ipython",
    "version": 3
   },
   "file_extension": ".py",
   "mimetype": "text/x-python",
   "name": "python",
   "nbconvert_exporter": "python",
   "pygments_lexer": "ipython3",
   "version": "3.10.6"
  }
 },
 "nbformat": 4,
 "nbformat_minor": 2
}

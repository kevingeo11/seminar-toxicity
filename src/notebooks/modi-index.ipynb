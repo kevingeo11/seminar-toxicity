{
 "cells": [
  {
   "cell_type": "code",
   "execution_count": 1,
   "metadata": {},
   "outputs": [],
   "source": [
    "import numpy as np\n",
    "import pandas as pd\n",
    "import os\n",
    "\n",
    "from rdkit import Chem\n",
    "from rdkit.Chem import MACCSkeys, rdFingerprintGenerator\n",
    "from rdkit import DataStructs\n",
    "from mordred import Calculator, descriptors\n",
    "import mordred\n",
    "\n",
    "from tqdm import tqdm"
   ]
  },
  {
   "cell_type": "code",
   "execution_count": 2,
   "metadata": {},
   "outputs": [],
   "source": [
    "endpoint = 'skin-sensitization'\n",
    "# endpoint = 'eye-irritation'\n",
    "\n",
    "loc = r'D:\\School\\Semester3\\Seminar - Reproducibility\\seminar-toxicity\\data'\n",
    "endpoint_loc = os.path.join(loc, endpoint)"
   ]
  },
  {
   "cell_type": "code",
   "execution_count": 3,
   "metadata": {},
   "outputs": [],
   "source": [
    "filename = 'data.csv'\n",
    "df = pd.read_csv(os.path.join(endpoint_loc, filename))"
   ]
  },
  {
   "cell_type": "code",
   "execution_count": 4,
   "metadata": {},
   "outputs": [
    {
     "data": {
      "text/html": [
       "<div>\n",
       "<style scoped>\n",
       "    .dataframe tbody tr th:only-of-type {\n",
       "        vertical-align: middle;\n",
       "    }\n",
       "\n",
       "    .dataframe tbody tr th {\n",
       "        vertical-align: top;\n",
       "    }\n",
       "\n",
       "    .dataframe thead th {\n",
       "        text-align: right;\n",
       "    }\n",
       "</style>\n",
       "<table border=\"1\" class=\"dataframe\">\n",
       "  <thead>\n",
       "    <tr style=\"text-align: right;\">\n",
       "      <th></th>\n",
       "      <th>CASRN</th>\n",
       "      <th>SMILES</th>\n",
       "      <th>Activity</th>\n",
       "    </tr>\n",
       "  </thead>\n",
       "  <tbody>\n",
       "    <tr>\n",
       "      <th>0</th>\n",
       "      <td>1655500-83-6</td>\n",
       "      <td>CC(CC=C(C)C)C1CC1(C)CO</td>\n",
       "      <td>1</td>\n",
       "    </tr>\n",
       "    <tr>\n",
       "      <th>1</th>\n",
       "      <td>2082-81-7</td>\n",
       "      <td>CC(=C)C(=O)OCCCCOC(=O)C(C)=C</td>\n",
       "      <td>1</td>\n",
       "    </tr>\n",
       "    <tr>\n",
       "      <th>2</th>\n",
       "      <td>75-33-2</td>\n",
       "      <td>CC(C)S</td>\n",
       "      <td>1</td>\n",
       "    </tr>\n",
       "    <tr>\n",
       "      <th>3</th>\n",
       "      <td>16958-92-2</td>\n",
       "      <td>CCCCCCCCCCCCCOC(=O)CCCCC(=O)OCCCCCCCCCCCCC</td>\n",
       "      <td>1</td>\n",
       "    </tr>\n",
       "    <tr>\n",
       "      <th>4</th>\n",
       "      <td>106-26-3</td>\n",
       "      <td>CC(C)=CCCC(C)=CC=O</td>\n",
       "      <td>1</td>\n",
       "    </tr>\n",
       "  </tbody>\n",
       "</table>\n",
       "</div>"
      ],
      "text/plain": [
       "          CASRN                                      SMILES  Activity\n",
       "0  1655500-83-6                      CC(CC=C(C)C)C1CC1(C)CO         1\n",
       "1     2082-81-7                CC(=C)C(=O)OCCCCOC(=O)C(C)=C         1\n",
       "2       75-33-2                                      CC(C)S         1\n",
       "3    16958-92-2  CCCCCCCCCCCCCOC(=O)CCCCC(=O)OCCCCCCCCCCCCC         1\n",
       "4      106-26-3                          CC(C)=CCCC(C)=CC=O         1"
      ]
     },
     "execution_count": 4,
     "metadata": {},
     "output_type": "execute_result"
    }
   ],
   "source": [
    "df.head()"
   ]
  },
  {
   "cell_type": "markdown",
   "metadata": {},
   "source": [
    "#### MODI Index\n",
    "\n",
    "For Binary classification\n",
    "\n",
    "$$MODI = \\frac{1}{2} \\sum_{i=1}^2 \\frac{N_i^{same}}{N_i^{total}}$$"
   ]
  },
  {
   "cell_type": "code",
   "execution_count": 5,
   "metadata": {},
   "outputs": [],
   "source": [
    "def customTanimoto(a, b):\n",
    "    return np.sum(a*b)/(np.sum(a**2) + np.sum(b**2) - np.sum(a*b))\n",
    "\n",
    "def getMODIindex(df, fps, fp = 'rdkit'):\n",
    "    '''\n",
    "        df should contain the followinng columns\n",
    "        SMILES - smiles string\n",
    "        Activity - respective classification\n",
    "    '''\n",
    "    modified_df = df.copy()\n",
    "    modified_df['fps'] = fps\n",
    "\n",
    "    Modi = 0\n",
    "    for activity in modified_df['Activity'].unique():\n",
    "        temp_df = modified_df[modified_df['Activity'] == activity]\n",
    "        Ni_same = 0\n",
    "        Ni_total = 0\n",
    "        for i in tqdm(range(temp_df.shape[0])):\n",
    "            sim = []\n",
    "            if temp_df['fps'].iloc[i] is None:\n",
    "                continue\n",
    "            for j in range(modified_df.shape[0]):\n",
    "                if modified_df['fps'].iloc[j] is None:\n",
    "                    continue\n",
    "                if temp_df['SMILES'].iloc[i] != modified_df['SMILES'].iloc[j]:\n",
    "                    if fp == 'rdkit':\n",
    "                        sim.append((DataStructs.TanimotoSimilarity(temp_df['fps'].iloc[i], modified_df['fps'].iloc[j]),\n",
    "                                    temp_df['Activity'].iloc[i] == modified_df['Activity'].iloc[j]))\n",
    "                    else:\n",
    "                        sim.append((customTanimoto(temp_df['fps'].iloc[i], modified_df['fps'].iloc[j]), \n",
    "                                    temp_df['Activity'].iloc[i] == modified_df['Activity'].iloc[j]))\n",
    "            \n",
    "            max_element = max(sim, key = lambda x: x[0])\n",
    "\n",
    "            if max_element[1]:\n",
    "                Ni_same += 1\n",
    "            Ni_total += 1\n",
    "\n",
    "        Modi += Ni_same/Ni_total\n",
    "\n",
    "    Modi = Modi/len(modified_df['Activity'].unique())\n",
    "\n",
    "    return Modi"
   ]
  },
  {
   "cell_type": "markdown",
   "metadata": {},
   "source": [
    "##### Using MACCS"
   ]
  },
  {
   "cell_type": "code",
   "execution_count": 6,
   "metadata": {},
   "outputs": [
    {
     "name": "stderr",
     "output_type": "stream",
     "text": [
      "[13:46:14] Can't kekulize mol.  Unkekulized atoms: 1 2 3 4 5 6 7 9 10 11 13 14 15\n",
      "[13:46:16] Can't kekulize mol.  Unkekulized atoms: 0 1 2 3 4\n"
     ]
    }
   ],
   "source": [
    "'''\n",
    "    Using MACCS Fingerprints\n",
    "'''\n",
    "fps = []\n",
    "for smiles in df['SMILES']:\n",
    "    mol = Chem.MolFromSmiles(smiles)\n",
    "    if mol is None:\n",
    "        fps.append(None)\n",
    "    else:\n",
    "        fps.append(MACCSkeys.GenMACCSKeys(mol))\n",
    "\n",
    "assert len(fps) == df.shape[0]"
   ]
  },
  {
   "cell_type": "code",
   "execution_count": 7,
   "metadata": {},
   "outputs": [
    {
     "name": "stderr",
     "output_type": "stream",
     "text": [
      "100%|██████████| 2021/2021 [06:01<00:00,  5.58it/s]\n",
      "100%|██████████| 1674/1674 [05:25<00:00,  5.14it/s]"
     ]
    },
    {
     "name": "stdout",
     "output_type": "stream",
     "text": [
      "Modi for MACCS Keys : 0.6629017653707989\n"
     ]
    },
    {
     "name": "stderr",
     "output_type": "stream",
     "text": [
      "\n"
     ]
    }
   ],
   "source": [
    "Modi = getMODIindex(df, fps)\n",
    "print('Modi for MACCS Keys :', Modi)"
   ]
  },
  {
   "cell_type": "markdown",
   "metadata": {},
   "source": [
    "##### Using Morgan"
   ]
  },
  {
   "cell_type": "code",
   "execution_count": 8,
   "metadata": {},
   "outputs": [
    {
     "name": "stderr",
     "output_type": "stream",
     "text": [
      "[14:02:17] Can't kekulize mol.  Unkekulized atoms: 1 2 3 4 5 6 7 9 10 11 13 14 15\n",
      "[14:02:17] Can't kekulize mol.  Unkekulized atoms: 0 1 2 3 4\n"
     ]
    }
   ],
   "source": [
    "'''\n",
    "    Using Morgan Fingerprints r = 3 and nbits = 2048\n",
    "'''\n",
    "fpg = rdFingerprintGenerator.GetMorganGenerator(radius=3, fpSize=2048)\n",
    "fps = []\n",
    "for smiles in df['SMILES']:\n",
    "    mol = Chem.MolFromSmiles(smiles)\n",
    "    if mol is None:\n",
    "        fps.append(None)\n",
    "    else:\n",
    "        fps.append(fpg.GetFingerprint(mol))\n",
    "\n",
    "assert len(fps) == df.shape[0]"
   ]
  },
  {
   "cell_type": "code",
   "execution_count": 9,
   "metadata": {},
   "outputs": [
    {
     "name": "stderr",
     "output_type": "stream",
     "text": [
      "100%|██████████| 2021/2021 [06:35<00:00,  5.12it/s]\n",
      "100%|██████████| 1674/1674 [05:15<00:00,  5.30it/s]"
     ]
    },
    {
     "name": "stdout",
     "output_type": "stream",
     "text": [
      "Modi for Morgan fingerprints : 0.657179401442834\n"
     ]
    },
    {
     "name": "stderr",
     "output_type": "stream",
     "text": [
      "\n"
     ]
    }
   ],
   "source": [
    "Modi = getMODIindex(df, fps)\n",
    "print('Modi for Morgan fingerprints :', Modi)"
   ]
  },
  {
   "cell_type": "markdown",
   "metadata": {},
   "source": [
    "##### Using MORDRED"
   ]
  },
  {
   "cell_type": "code",
   "execution_count": 10,
   "metadata": {},
   "outputs": [
    {
     "name": "stderr",
     "output_type": "stream",
     "text": [
      "[14:14:09] Can't kekulize mol.  Unkekulized atoms: 1 2 3 4 5 6 7 9 10 11 13 14 15\n",
      "[14:14:09] Can't kekulize mol.  Unkekulized atoms: 0 1 2 3 4\n"
     ]
    }
   ],
   "source": [
    "calc = Calculator(descriptors, ignore_3D=True)\n",
    "mol_list = []\n",
    "for smiles in df['SMILES']:\n",
    "    mol = Chem.MolFromSmiles(smiles)\n",
    "    if mol is None:\n",
    "        continue\n",
    "    else:\n",
    "        mol_list.append(mol)"
   ]
  },
  {
   "cell_type": "code",
   "execution_count": 11,
   "metadata": {},
   "outputs": [
    {
     "name": "stderr",
     "output_type": "stream",
     "text": [
      "  0%|          | 7/3693 [00:02<10:46,  5.70it/s]  "
     ]
    },
    {
     "name": "stdout",
     "output_type": "stream",
     "text": [
      "c:\\Users\\kevin\\nextAID\\lib\\site-packages\\numpy\\core\\fromnumeric.py:86: RuntimeWarning: overflow encountered in reduce\n",
      "  return ufunc.reduce(obj, axis, dtype, out, **passkwargs)\n"
     ]
    },
    {
     "name": "stderr",
     "output_type": "stream",
     "text": [
      "  1%|          | 44/3693 [00:03<02:17, 26.49it/s]"
     ]
    },
    {
     "name": "stdout",
     "output_type": "stream",
     "text": [
      "c:\\Users\\kevin\\nextAID\\lib\\site-packages\\numpy\\core\\fromnumeric.py:86: RuntimeWarning: overflow encountered in reduce\n",
      "  return ufunc.reduce(obj, axis, dtype, out, **passkwargs)\n"
     ]
    },
    {
     "name": "stderr",
     "output_type": "stream",
     "text": [
      "  4%|▍         | 146/3693 [00:05<01:15, 46.84it/s]"
     ]
    },
    {
     "name": "stdout",
     "output_type": "stream",
     "text": [
      "c:\\Users\\kevin\\nextAID\\lib\\site-packages\\numpy\\core\\fromnumeric.py:86: RuntimeWarning: overflow encountered in reduce\n",
      "  return ufunc.reduce(obj, axis, dtype, out, **passkwargs)\n"
     ]
    },
    {
     "name": "stderr",
     "output_type": "stream",
     "text": [
      "  4%|▍         | 164/3693 [00:06<01:35, 36.82it/s]"
     ]
    },
    {
     "name": "stdout",
     "output_type": "stream",
     "text": [
      "c:\\Users\\kevin\\nextAID\\lib\\site-packages\\numpy\\core\\fromnumeric.py:86: RuntimeWarning: overflow encountered in reduce\n",
      "  return ufunc.reduce(obj, axis, dtype, out, **passkwargs)\n"
     ]
    },
    {
     "name": "stderr",
     "output_type": "stream",
     "text": [
      "  6%|▌         | 220/3693 [00:08<02:02, 28.38it/s]"
     ]
    },
    {
     "name": "stdout",
     "output_type": "stream",
     "text": [
      "c:\\Users\\kevin\\nextAID\\lib\\site-packages\\numpy\\core\\fromnumeric.py:86: RuntimeWarning: overflow encountered in reduce\n",
      "  return ufunc.reduce(obj, axis, dtype, out, **passkwargs)\n"
     ]
    },
    {
     "name": "stderr",
     "output_type": "stream",
     "text": [
      " 15%|█▍        | 548/3693 [00:20<02:52, 18.26it/s]"
     ]
    },
    {
     "name": "stdout",
     "output_type": "stream",
     "text": [
      "c:\\Users\\kevin\\nextAID\\lib\\site-packages\\numpy\\core\\fromnumeric.py:86: RuntimeWarning: overflow encountered in reduce\n",
      "  return ufunc.reduce(obj, axis, dtype, out, **passkwargs)\n"
     ]
    },
    {
     "name": "stderr",
     "output_type": "stream",
     "text": [
      " 17%|█▋        | 630/3693 [00:23<02:21, 21.65it/s]"
     ]
    },
    {
     "name": "stdout",
     "output_type": "stream",
     "text": [
      "c:\\Users\\kevin\\nextAID\\lib\\site-packages\\numpy\\core\\fromnumeric.py:86: RuntimeWarning: overflow encountered in reduce\n",
      "  return ufunc.reduce(obj, axis, dtype, out, **passkwargs)\n"
     ]
    },
    {
     "name": "stderr",
     "output_type": "stream",
     "text": [
      " 20%|█▉        | 726/3693 [00:29<03:10, 15.61it/s]"
     ]
    },
    {
     "name": "stdout",
     "output_type": "stream",
     "text": [
      "c:\\Users\\kevin\\nextAID\\lib\\site-packages\\numpy\\core\\fromnumeric.py:86: RuntimeWarning: overflow encountered in reduce\n",
      "  return ufunc.reduce(obj, axis, dtype, out, **passkwargs)\n"
     ]
    },
    {
     "name": "stderr",
     "output_type": "stream",
     "text": [
      "100%|██████████| 3693/3693 [02:32<00:00, 24.27it/s]\n"
     ]
    }
   ],
   "source": [
    "df_mordred = calc.pandas(mol_list)"
   ]
  },
  {
   "cell_type": "code",
   "execution_count": 12,
   "metadata": {},
   "outputs": [
    {
     "data": {
      "text/plain": [
       "(3693, 1613)"
      ]
     },
     "execution_count": 12,
     "metadata": {},
     "output_type": "execute_result"
    }
   ],
   "source": [
    "df_mordred.shape"
   ]
  },
  {
   "cell_type": "code",
   "execution_count": 13,
   "metadata": {},
   "outputs": [],
   "source": [
    "truth_map = df_mordred.applymap(lambda x : not isinstance(x, mordred.error.MissingValueBase))"
   ]
  },
  {
   "cell_type": "code",
   "execution_count": 14,
   "metadata": {},
   "outputs": [],
   "source": [
    "truth_series = truth_map.all(axis=0)"
   ]
  },
  {
   "cell_type": "code",
   "execution_count": 15,
   "metadata": {},
   "outputs": [
    {
     "data": {
      "text/plain": [
       "ABC          True\n",
       "ABCGG        True\n",
       "nAcid        True\n",
       "nBase        True\n",
       "SpAbs_A      True\n",
       "            ...  \n",
       "WPol         True\n",
       "Zagreb1      True\n",
       "Zagreb2      True\n",
       "mZagreb1    False\n",
       "mZagreb2     True\n",
       "Length: 1613, dtype: bool"
      ]
     },
     "execution_count": 15,
     "metadata": {},
     "output_type": "execute_result"
    }
   ],
   "source": [
    "truth_series"
   ]
  },
  {
   "cell_type": "code",
   "execution_count": 16,
   "metadata": {},
   "outputs": [
    {
     "data": {
      "text/plain": [
       "1027"
      ]
     },
     "execution_count": 16,
     "metadata": {},
     "output_type": "execute_result"
    }
   ],
   "source": [
    "truth_series.sum()"
   ]
  },
  {
   "cell_type": "code",
   "execution_count": 17,
   "metadata": {},
   "outputs": [
    {
     "name": "stderr",
     "output_type": "stream",
     "text": [
      "  0%|          | 2/3695 [00:00<07:52,  7.82it/s]c:\\Users\\kevin\\nextAID\\lib\\site-packages\\numpy\\core\\fromnumeric.py:86: RuntimeWarning: overflow encountered in reduce\n",
      "  return ufunc.reduce(obj, axis, dtype, out, **passkwargs)\n",
      " 27%|██▋       | 992/3695 [01:45<05:41,  7.91it/s][14:18:33] Can't kekulize mol.  Unkekulized atoms: 1 2 3 4 5 6 7 9 10 11 13 14 15\n",
      " 92%|█████████▏| 3381/3695 [06:52<00:37,  8.44it/s][14:23:40] Can't kekulize mol.  Unkekulized atoms: 0 1 2 3 4\n",
      "100%|██████████| 3695/3695 [07:30<00:00,  8.20it/s]\n"
     ]
    }
   ],
   "source": [
    "'''\n",
    "    Using Mordred Fingerprints\n",
    "'''\n",
    "fps = []\n",
    "for smiles in tqdm(df['SMILES']):\n",
    "    mol = Chem.MolFromSmiles(smiles)\n",
    "    if mol is None:\n",
    "        fps.append(None)\n",
    "    else:\n",
    "        fps.append(np.array(calc(mol))[truth_series.to_numpy()])\n",
    "\n",
    "assert len(fps) == df.shape[0]"
   ]
  },
  {
   "cell_type": "code",
   "execution_count": 18,
   "metadata": {},
   "outputs": [
    {
     "name": "stderr",
     "output_type": "stream",
     "text": [
      "100%|██████████| 2021/2021 [1:26:30<00:00,  2.57s/it]\n",
      "100%|██████████| 1674/1674 [1:21:34<00:00,  2.92s/it]"
     ]
    },
    {
     "name": "stdout",
     "output_type": "stream",
     "text": [
      "Modi for Mordred fingerprints : 0.5681088102832996\n"
     ]
    },
    {
     "name": "stderr",
     "output_type": "stream",
     "text": [
      "\n"
     ]
    }
   ],
   "source": [
    "Modi = getMODIindex(df, fps, fp='custom')\n",
    "print('Modi for Mordred fingerprints :', Modi)"
   ]
  },
  {
   "cell_type": "markdown",
   "metadata": {},
   "source": [
    "##### Skin Sensitization\n",
    "\n",
    "Modi index for Maccs keys = 0.6629 \\\n",
    "Modi index for Morgan keys = 0.6571 \\\n",
    "Modi index for Mordred keys = 0.5681"
   ]
  },
  {
   "cell_type": "markdown",
   "metadata": {},
   "source": [
    "##### Eye irritation\n",
    "\n",
    "Modi index for Maccs keys = 0.6918 \\\n",
    "Modi index for Morgan keys = 0.7006 \\\n",
    "Modi index for Mordred keys = "
   ]
  },
  {
   "cell_type": "code",
   "execution_count": null,
   "metadata": {},
   "outputs": [],
   "source": []
  }
 ],
 "metadata": {
  "kernelspec": {
   "display_name": "nextAID",
   "language": "python",
   "name": "nextaid"
  },
  "language_info": {
   "codemirror_mode": {
    "name": "ipython",
    "version": 3
   },
   "file_extension": ".py",
   "mimetype": "text/x-python",
   "name": "python",
   "nbconvert_exporter": "python",
   "pygments_lexer": "ipython3",
   "version": "3.10.6"
  }
 },
 "nbformat": 4,
 "nbformat_minor": 2
}

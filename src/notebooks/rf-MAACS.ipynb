{
 "cells": [
  {
   "cell_type": "code",
   "execution_count": 1,
   "metadata": {},
   "outputs": [],
   "source": [
    "import numpy as np\n",
    "import pandas as pd\n",
    "import os\n",
    "\n",
    "from rdkit import Chem\n",
    "from rdkit.Chem import MACCSkeys, rdFingerprintGenerator\n",
    "from rdkit import DataStructs\n",
    "\n",
    "from sklearn.model_selection import StratifiedShuffleSplit\n",
    "from sklearn.model_selection import cross_validate\n",
    "from sklearn.ensemble import RandomForestClassifier\n",
    "from sklearn.metrics import confusion_matrix\n",
    "import optuna\n",
    "import joblib"
   ]
  },
  {
   "cell_type": "code",
   "execution_count": 2,
   "metadata": {},
   "outputs": [],
   "source": [
    "np.random.seed(1234)"
   ]
  },
  {
   "cell_type": "code",
   "execution_count": 3,
   "metadata": {},
   "outputs": [],
   "source": [
    "endpoint = 'skin-sensitization'\n",
    "# endpoint = 'eye-irritation'\n",
    "\n",
    "loc = r'D:\\School\\Semester3\\Seminar - Reproducibility\\seminar-toxicity\\data'\n",
    "endpoint_loc = os.path.join(loc, endpoint)\n",
    "model = r'D:\\School\\Semester3\\Seminar - Reproducibility\\seminar-toxicity\\src\\models'\n",
    "model_loc = os.path.join(model, endpoint)"
   ]
  },
  {
   "cell_type": "code",
   "execution_count": 4,
   "metadata": {},
   "outputs": [],
   "source": [
    "filename = 'train.csv'\n",
    "df_train = pd.read_csv(os.path.join(endpoint_loc, filename))"
   ]
  },
  {
   "cell_type": "code",
   "execution_count": 5,
   "metadata": {},
   "outputs": [
    {
     "data": {
      "text/plain": [
       "(2956, 2)"
      ]
     },
     "execution_count": 5,
     "metadata": {},
     "output_type": "execute_result"
    }
   ],
   "source": [
    "df_train.shape"
   ]
  },
  {
   "cell_type": "code",
   "execution_count": 6,
   "metadata": {},
   "outputs": [
    {
     "data": {
      "text/html": [
       "<div>\n",
       "<style scoped>\n",
       "    .dataframe tbody tr th:only-of-type {\n",
       "        vertical-align: middle;\n",
       "    }\n",
       "\n",
       "    .dataframe tbody tr th {\n",
       "        vertical-align: top;\n",
       "    }\n",
       "\n",
       "    .dataframe thead th {\n",
       "        text-align: right;\n",
       "    }\n",
       "</style>\n",
       "<table border=\"1\" class=\"dataframe\">\n",
       "  <thead>\n",
       "    <tr style=\"text-align: right;\">\n",
       "      <th></th>\n",
       "      <th>SMILES</th>\n",
       "      <th>Activity</th>\n",
       "    </tr>\n",
       "  </thead>\n",
       "  <tbody>\n",
       "    <tr>\n",
       "      <th>0</th>\n",
       "      <td>CC(=O)CC(=O)NC1=CC(Cl)=CC=C1OC</td>\n",
       "      <td>0</td>\n",
       "    </tr>\n",
       "    <tr>\n",
       "      <th>1</th>\n",
       "      <td>CC1=NN2C(=NC3C=CC=CC=3C2=O)C1N=NC1C=CC(Cl)=CC=...</td>\n",
       "      <td>0</td>\n",
       "    </tr>\n",
       "    <tr>\n",
       "      <th>2</th>\n",
       "      <td>CCCCCCCCCCCCCCCCCCN(CCCCCCCCCCCCCCCCCC)C(=O)C1...</td>\n",
       "      <td>0</td>\n",
       "    </tr>\n",
       "    <tr>\n",
       "      <th>3</th>\n",
       "      <td>ClC1C=C(C=CC=1)OC1C=CC(Cl)=CC=1</td>\n",
       "      <td>0</td>\n",
       "    </tr>\n",
       "    <tr>\n",
       "      <th>4</th>\n",
       "      <td>OCCN1CCN(CCS(O)(=O)=O)CC1</td>\n",
       "      <td>0</td>\n",
       "    </tr>\n",
       "  </tbody>\n",
       "</table>\n",
       "</div>"
      ],
      "text/plain": [
       "                                              SMILES  Activity\n",
       "0                     CC(=O)CC(=O)NC1=CC(Cl)=CC=C1OC         0\n",
       "1  CC1=NN2C(=NC3C=CC=CC=3C2=O)C1N=NC1C=CC(Cl)=CC=...         0\n",
       "2  CCCCCCCCCCCCCCCCCCN(CCCCCCCCCCCCCCCCCC)C(=O)C1...         0\n",
       "3                    ClC1C=C(C=CC=1)OC1C=CC(Cl)=CC=1         0\n",
       "4                          OCCN1CCN(CCS(O)(=O)=O)CC1         0"
      ]
     },
     "execution_count": 6,
     "metadata": {},
     "output_type": "execute_result"
    }
   ],
   "source": [
    "df_train.head()"
   ]
  },
  {
   "cell_type": "code",
   "execution_count": 7,
   "metadata": {},
   "outputs": [],
   "source": [
    "filename = 'val.csv'\n",
    "df_val = pd.read_csv(os.path.join(endpoint_loc, filename))"
   ]
  },
  {
   "cell_type": "code",
   "execution_count": 8,
   "metadata": {},
   "outputs": [
    {
     "data": {
      "text/plain": [
       "(739, 2)"
      ]
     },
     "execution_count": 8,
     "metadata": {},
     "output_type": "execute_result"
    }
   ],
   "source": [
    "df_val.shape"
   ]
  },
  {
   "cell_type": "code",
   "execution_count": 9,
   "metadata": {},
   "outputs": [
    {
     "data": {
      "text/html": [
       "<div>\n",
       "<style scoped>\n",
       "    .dataframe tbody tr th:only-of-type {\n",
       "        vertical-align: middle;\n",
       "    }\n",
       "\n",
       "    .dataframe tbody tr th {\n",
       "        vertical-align: top;\n",
       "    }\n",
       "\n",
       "    .dataframe thead th {\n",
       "        text-align: right;\n",
       "    }\n",
       "</style>\n",
       "<table border=\"1\" class=\"dataframe\">\n",
       "  <thead>\n",
       "    <tr style=\"text-align: right;\">\n",
       "      <th></th>\n",
       "      <th>SMILES</th>\n",
       "      <th>Activity</th>\n",
       "    </tr>\n",
       "  </thead>\n",
       "  <tbody>\n",
       "    <tr>\n",
       "      <th>0</th>\n",
       "      <td>CCC1(CO)COCOC1</td>\n",
       "      <td>0</td>\n",
       "    </tr>\n",
       "    <tr>\n",
       "      <th>1</th>\n",
       "      <td>CC(=O)C(=CC1C=CC=CC=1[N+]([O-])=O)C(=O)OC</td>\n",
       "      <td>1</td>\n",
       "    </tr>\n",
       "    <tr>\n",
       "      <th>2</th>\n",
       "      <td>[O-][N+](=O)C1C(=NN2C=CC=CC2=1)OCCO</td>\n",
       "      <td>0</td>\n",
       "    </tr>\n",
       "    <tr>\n",
       "      <th>3</th>\n",
       "      <td>CCCCCCCCCCCC(=O)OC1CC(C)(C)NC(C)(C)C1</td>\n",
       "      <td>0</td>\n",
       "    </tr>\n",
       "    <tr>\n",
       "      <th>4</th>\n",
       "      <td>CC(C)(C)CC(C)CC(=O)OOC(C)(C)C</td>\n",
       "      <td>1</td>\n",
       "    </tr>\n",
       "  </tbody>\n",
       "</table>\n",
       "</div>"
      ],
      "text/plain": [
       "                                      SMILES  Activity\n",
       "0                             CCC1(CO)COCOC1         0\n",
       "1  CC(=O)C(=CC1C=CC=CC=1[N+]([O-])=O)C(=O)OC         1\n",
       "2        [O-][N+](=O)C1C(=NN2C=CC=CC2=1)OCCO         0\n",
       "3      CCCCCCCCCCCC(=O)OC1CC(C)(C)NC(C)(C)C1         0\n",
       "4              CC(C)(C)CC(C)CC(=O)OOC(C)(C)C         1"
      ]
     },
     "execution_count": 9,
     "metadata": {},
     "output_type": "execute_result"
    }
   ],
   "source": [
    "df_val.head()"
   ]
  },
  {
   "cell_type": "code",
   "execution_count": 10,
   "metadata": {},
   "outputs": [],
   "source": [
    "train_smiles = df_train['SMILES'].to_numpy()\n",
    "train_labels = df_train['Activity'].to_numpy()\n",
    "val_smiles = df_val['SMILES'].to_numpy()\n",
    "val_labels = df_val['Activity'].to_numpy()"
   ]
  },
  {
   "cell_type": "code",
   "execution_count": 11,
   "metadata": {},
   "outputs": [
    {
     "name": "stdout",
     "output_type": "stream",
     "text": [
      "train size smiles : (2956,)\n",
      "train size labels : (2956,)\n",
      "pos samples in train size : (1617,)\n",
      "neg samples in train size : (1339,)\n",
      "val size smiles : (739,)\n",
      "val size labels : (739,)\n",
      "pos samples in val size : (404,)\n",
      "neg samples in val size : (335,)\n"
     ]
    }
   ],
   "source": [
    "print('train size smiles :', train_smiles.shape)\n",
    "print('train size labels :', train_labels.shape)\n",
    "print('pos samples in train size :', train_labels[train_labels == 1].shape)\n",
    "print('neg samples in train size :', train_labels[train_labels == 0].shape)\n",
    "print('val size smiles :', val_smiles.shape)\n",
    "print('val size labels :', val_labels.shape)\n",
    "print('pos samples in val size :', val_labels[val_labels == 1].shape)\n",
    "print('neg samples in val size :', val_labels[val_labels == 0].shape)"
   ]
  },
  {
   "cell_type": "code",
   "execution_count": 12,
   "metadata": {},
   "outputs": [],
   "source": [
    "def get_MAACS(smiles_array, labels):\n",
    "    fps = []\n",
    "    y = []\n",
    "    for smiles, label in zip(smiles_array, labels):\n",
    "        mol = Chem.MolFromSmiles(smiles)\n",
    "        if mol is None:\n",
    "            pass\n",
    "        else:\n",
    "            fps.append(np.array(MACCSkeys.GenMACCSKeys(mol)))\n",
    "            y.append(label)\n",
    "\n",
    "    assert len(fps) == len(y)\n",
    "    \n",
    "    return np.array(fps), np.array(y)"
   ]
  },
  {
   "cell_type": "code",
   "execution_count": 13,
   "metadata": {},
   "outputs": [
    {
     "name": "stderr",
     "output_type": "stream",
     "text": [
      "[13:25:16] Can't kekulize mol.  Unkekulized atoms: 0 1 2 3 4\n",
      "[13:25:17] Can't kekulize mol.  Unkekulized atoms: 1 2 3 4 5 6 7 9 10 11 13 14 15\n"
     ]
    }
   ],
   "source": [
    "train_fingerprints, train_labels = get_MAACS(train_smiles, train_labels)\n",
    "val_fingerprints, val_labels = get_MAACS(val_smiles, val_labels)"
   ]
  },
  {
   "cell_type": "code",
   "execution_count": 14,
   "metadata": {},
   "outputs": [
    {
     "name": "stdout",
     "output_type": "stream",
     "text": [
      "train size fingerprints : (2956, 167)\n",
      "train size labels : (2956,)\n",
      "pos samples in train size : (1617,)\n",
      "neg samples in train size : (1339,)\n",
      "val size fingerprints : (737, 167)\n",
      "val size labels : (737,)\n",
      "pos samples in val size : (403,)\n",
      "neg samples in val size : (334,)\n"
     ]
    }
   ],
   "source": [
    "print('train size fingerprints :', train_fingerprints.shape)\n",
    "print('train size labels :', train_labels.shape)\n",
    "print('pos samples in train size :', train_labels[train_labels == 1].shape)\n",
    "print('neg samples in train size :', train_labels[train_labels == 0].shape)\n",
    "print('val size fingerprints :', val_fingerprints.shape)\n",
    "print('val size labels :', val_labels.shape)\n",
    "print('pos samples in val size :', val_labels[val_labels == 1].shape)\n",
    "print('neg samples in val size :', val_labels[val_labels == 0].shape)"
   ]
  },
  {
   "cell_type": "code",
   "execution_count": 15,
   "metadata": {},
   "outputs": [],
   "source": [
    "def objective(trial, xtrain, ytrain):\n",
    "    n = trial.suggest_int('n_estimators', 50, 250)\n",
    "    rf = RandomForestClassifier(n_estimators = n)\n",
    "\n",
    "    scores = cross_validate(rf, xtrain, ytrain, cv=5, scoring='roc_auc')\n",
    "    mean_roc = scores['test_score'].mean()\n",
    "\n",
    "    return 1/(mean_roc + 1e-6)"
   ]
  },
  {
   "cell_type": "code",
   "execution_count": 17,
   "metadata": {},
   "outputs": [
    {
     "name": "stderr",
     "output_type": "stream",
     "text": [
      "[I 2024-01-14 13:25:50,950] A new study created in RDB with name: rf_study_skin\n",
      "[I 2024-01-14 13:25:54,529] Trial 0 finished with value: 1.3291156459135878 and parameters: {'n_estimators': 167}. Best is trial 0 with value: 1.3291156459135878.\n",
      "[I 2024-01-14 13:25:56,074] Trial 1 finished with value: 1.332445743318067 and parameters: {'n_estimators': 68}. Best is trial 0 with value: 1.3291156459135878.\n",
      "[I 2024-01-14 13:25:58,728] Trial 2 finished with value: 1.3288886621694984 and parameters: {'n_estimators': 122}. Best is trial 2 with value: 1.3288886621694984.\n",
      "[I 2024-01-14 13:26:00,030] Trial 3 finished with value: 1.3424355147477416 and parameters: {'n_estimators': 55}. Best is trial 2 with value: 1.3288886621694984.\n",
      "[I 2024-01-14 13:26:02,546] Trial 4 finished with value: 1.3261811037837352 and parameters: {'n_estimators': 104}. Best is trial 4 with value: 1.3261811037837352.\n",
      "[I 2024-01-14 13:26:04,911] Trial 5 finished with value: 1.3354666198959269 and parameters: {'n_estimators': 112}. Best is trial 4 with value: 1.3261811037837352.\n",
      "[I 2024-01-14 13:26:07,115] Trial 6 finished with value: 1.32926279526505 and parameters: {'n_estimators': 96}. Best is trial 4 with value: 1.3261811037837352.\n",
      "[I 2024-01-14 13:26:09,027] Trial 7 finished with value: 1.3388828572030462 and parameters: {'n_estimators': 81}. Best is trial 4 with value: 1.3261811037837352.\n",
      "[I 2024-01-14 13:26:12,120] Trial 8 finished with value: 1.3346767893482647 and parameters: {'n_estimators': 146}. Best is trial 4 with value: 1.3261811037837352.\n",
      "[I 2024-01-14 13:26:16,574] Trial 9 finished with value: 1.3268005400145517 and parameters: {'n_estimators': 203}. Best is trial 4 with value: 1.3261811037837352.\n",
      "[I 2024-01-14 13:26:21,890] Trial 10 finished with value: 1.3279159612363367 and parameters: {'n_estimators': 248}. Best is trial 4 with value: 1.3261811037837352.\n",
      "[I 2024-01-14 13:26:26,548] Trial 11 finished with value: 1.3270765958710407 and parameters: {'n_estimators': 207}. Best is trial 4 with value: 1.3261811037837352.\n",
      "[I 2024-01-14 13:26:30,733] Trial 12 finished with value: 1.332514155509696 and parameters: {'n_estimators': 192}. Best is trial 4 with value: 1.3261811037837352.\n",
      "[I 2024-01-14 13:26:35,835] Trial 13 finished with value: 1.3290701727950442 and parameters: {'n_estimators': 241}. Best is trial 4 with value: 1.3261811037837352.\n",
      "[I 2024-01-14 13:26:38,955] Trial 14 finished with value: 1.3305942471227155 and parameters: {'n_estimators': 144}. Best is trial 4 with value: 1.3261811037837352.\n",
      "[I 2024-01-14 13:26:43,455] Trial 15 finished with value: 1.3290170767805178 and parameters: {'n_estimators': 201}. Best is trial 4 with value: 1.3261811037837352.\n",
      "[I 2024-01-14 13:26:47,373] Trial 16 finished with value: 1.3330477280741488 and parameters: {'n_estimators': 174}. Best is trial 4 with value: 1.3261811037837352.\n",
      "[I 2024-01-14 13:26:52,267] Trial 17 finished with value: 1.3292581030920834 and parameters: {'n_estimators': 222}. Best is trial 4 with value: 1.3261811037837352.\n",
      "[I 2024-01-14 13:26:55,090] Trial 18 finished with value: 1.3331837642834907 and parameters: {'n_estimators': 122}. Best is trial 4 with value: 1.3261811037837352.\n",
      "[I 2024-01-14 13:26:59,016] Trial 19 finished with value: 1.338404208776193 and parameters: {'n_estimators': 170}. Best is trial 4 with value: 1.3261811037837352.\n"
     ]
    }
   ],
   "source": [
    "study = optuna.create_study(study_name='rf_study_skin', storage='sqlite:///rf_study_skin.db')  # Create a new study.\n",
    "study.optimize(lambda trial: objective(trial, train_fingerprints, train_labels), n_trials=20)  # Invoke optimization of the objective function."
   ]
  },
  {
   "cell_type": "code",
   "execution_count": 18,
   "metadata": {},
   "outputs": [
    {
     "data": {
      "text/plain": [
       "{'n_estimators': 104}"
      ]
     },
     "execution_count": 18,
     "metadata": {},
     "output_type": "execute_result"
    }
   ],
   "source": [
    "study.best_params"
   ]
  },
  {
   "cell_type": "code",
   "execution_count": 19,
   "metadata": {},
   "outputs": [
    {
     "data": {
      "text/html": [
       "<style>#sk-container-id-1 {color: black;background-color: white;}#sk-container-id-1 pre{padding: 0;}#sk-container-id-1 div.sk-toggleable {background-color: white;}#sk-container-id-1 label.sk-toggleable__label {cursor: pointer;display: block;width: 100%;margin-bottom: 0;padding: 0.3em;box-sizing: border-box;text-align: center;}#sk-container-id-1 label.sk-toggleable__label-arrow:before {content: \"▸\";float: left;margin-right: 0.25em;color: #696969;}#sk-container-id-1 label.sk-toggleable__label-arrow:hover:before {color: black;}#sk-container-id-1 div.sk-estimator:hover label.sk-toggleable__label-arrow:before {color: black;}#sk-container-id-1 div.sk-toggleable__content {max-height: 0;max-width: 0;overflow: hidden;text-align: left;background-color: #f0f8ff;}#sk-container-id-1 div.sk-toggleable__content pre {margin: 0.2em;color: black;border-radius: 0.25em;background-color: #f0f8ff;}#sk-container-id-1 input.sk-toggleable__control:checked~div.sk-toggleable__content {max-height: 200px;max-width: 100%;overflow: auto;}#sk-container-id-1 input.sk-toggleable__control:checked~label.sk-toggleable__label-arrow:before {content: \"▾\";}#sk-container-id-1 div.sk-estimator input.sk-toggleable__control:checked~label.sk-toggleable__label {background-color: #d4ebff;}#sk-container-id-1 div.sk-label input.sk-toggleable__control:checked~label.sk-toggleable__label {background-color: #d4ebff;}#sk-container-id-1 input.sk-hidden--visually {border: 0;clip: rect(1px 1px 1px 1px);clip: rect(1px, 1px, 1px, 1px);height: 1px;margin: -1px;overflow: hidden;padding: 0;position: absolute;width: 1px;}#sk-container-id-1 div.sk-estimator {font-family: monospace;background-color: #f0f8ff;border: 1px dotted black;border-radius: 0.25em;box-sizing: border-box;margin-bottom: 0.5em;}#sk-container-id-1 div.sk-estimator:hover {background-color: #d4ebff;}#sk-container-id-1 div.sk-parallel-item::after {content: \"\";width: 100%;border-bottom: 1px solid gray;flex-grow: 1;}#sk-container-id-1 div.sk-label:hover label.sk-toggleable__label {background-color: #d4ebff;}#sk-container-id-1 div.sk-serial::before {content: \"\";position: absolute;border-left: 1px solid gray;box-sizing: border-box;top: 0;bottom: 0;left: 50%;z-index: 0;}#sk-container-id-1 div.sk-serial {display: flex;flex-direction: column;align-items: center;background-color: white;padding-right: 0.2em;padding-left: 0.2em;position: relative;}#sk-container-id-1 div.sk-item {position: relative;z-index: 1;}#sk-container-id-1 div.sk-parallel {display: flex;align-items: stretch;justify-content: center;background-color: white;position: relative;}#sk-container-id-1 div.sk-item::before, #sk-container-id-1 div.sk-parallel-item::before {content: \"\";position: absolute;border-left: 1px solid gray;box-sizing: border-box;top: 0;bottom: 0;left: 50%;z-index: -1;}#sk-container-id-1 div.sk-parallel-item {display: flex;flex-direction: column;z-index: 1;position: relative;background-color: white;}#sk-container-id-1 div.sk-parallel-item:first-child::after {align-self: flex-end;width: 50%;}#sk-container-id-1 div.sk-parallel-item:last-child::after {align-self: flex-start;width: 50%;}#sk-container-id-1 div.sk-parallel-item:only-child::after {width: 0;}#sk-container-id-1 div.sk-dashed-wrapped {border: 1px dashed gray;margin: 0 0.4em 0.5em 0.4em;box-sizing: border-box;padding-bottom: 0.4em;background-color: white;}#sk-container-id-1 div.sk-label label {font-family: monospace;font-weight: bold;display: inline-block;line-height: 1.2em;}#sk-container-id-1 div.sk-label-container {text-align: center;}#sk-container-id-1 div.sk-container {/* jupyter's `normalize.less` sets `[hidden] { display: none; }` but bootstrap.min.css set `[hidden] { display: none !important; }` so we also need the `!important` here to be able to override the default hidden behavior on the sphinx rendered scikit-learn.org. See: https://github.com/scikit-learn/scikit-learn/issues/21755 */display: inline-block !important;position: relative;}#sk-container-id-1 div.sk-text-repr-fallback {display: none;}</style><div id=\"sk-container-id-1\" class=\"sk-top-container\"><div class=\"sk-text-repr-fallback\"><pre>RandomForestClassifier(n_estimators=104, random_state=1234)</pre><b>In a Jupyter environment, please rerun this cell to show the HTML representation or trust the notebook. <br />On GitHub, the HTML representation is unable to render, please try loading this page with nbviewer.org.</b></div><div class=\"sk-container\" hidden><div class=\"sk-item\"><div class=\"sk-estimator sk-toggleable\"><input class=\"sk-toggleable__control sk-hidden--visually\" id=\"sk-estimator-id-1\" type=\"checkbox\" checked><label for=\"sk-estimator-id-1\" class=\"sk-toggleable__label sk-toggleable__label-arrow\">RandomForestClassifier</label><div class=\"sk-toggleable__content\"><pre>RandomForestClassifier(n_estimators=104, random_state=1234)</pre></div></div></div></div></div>"
      ],
      "text/plain": [
       "RandomForestClassifier(n_estimators=104, random_state=1234)"
      ]
     },
     "execution_count": 19,
     "metadata": {},
     "output_type": "execute_result"
    }
   ],
   "source": [
    "rf = RandomForestClassifier(n_estimators = 104, random_state=1234)\n",
    "rf.fit(train_fingerprints, train_labels)"
   ]
  },
  {
   "cell_type": "code",
   "execution_count": 20,
   "metadata": {},
   "outputs": [],
   "source": [
    "# performing predictions on the test dataset \n",
    "y_pred = rf.predict(train_fingerprints)"
   ]
  },
  {
   "cell_type": "code",
   "execution_count": 21,
   "metadata": {},
   "outputs": [
    {
     "name": "stdout",
     "output_type": "stream",
     "text": [
      "Train accuracy =  0.9905277401894452\n"
     ]
    }
   ],
   "source": [
    "print('Train accuracy = ', (y_pred == train_labels).sum()/len(train_labels))"
   ]
  },
  {
   "cell_type": "code",
   "execution_count": 22,
   "metadata": {},
   "outputs": [],
   "source": [
    "y_pred = rf.predict(val_fingerprints)"
   ]
  },
  {
   "cell_type": "code",
   "execution_count": 23,
   "metadata": {},
   "outputs": [
    {
     "name": "stdout",
     "output_type": "stream",
     "text": [
      "Val accuracy =  0.6648575305291723\n"
     ]
    }
   ],
   "source": [
    "print('Val accuracy = ', (y_pred == val_labels).sum()/len(val_labels))"
   ]
  },
  {
   "cell_type": "code",
   "execution_count": 24,
   "metadata": {},
   "outputs": [],
   "source": [
    "tn, fp, fn, tp = confusion_matrix(y_pred, val_labels).ravel()"
   ]
  },
  {
   "cell_type": "code",
   "execution_count": 25,
   "metadata": {},
   "outputs": [
    {
     "data": {
      "text/plain": [
       "(197, 110, 137, 293)"
      ]
     },
     "execution_count": 25,
     "metadata": {},
     "output_type": "execute_result"
    }
   ],
   "source": [
    "(tn, fp, fn, tp)"
   ]
  },
  {
   "cell_type": "code",
   "execution_count": 26,
   "metadata": {},
   "outputs": [],
   "source": [
    "ACC = (tp + tn)/(tp + tn + fn + fp)\n",
    "SEN = tp/(tp + fn)\n",
    "SPE = tn/(tn + fp)"
   ]
  },
  {
   "cell_type": "code",
   "execution_count": 27,
   "metadata": {},
   "outputs": [
    {
     "name": "stdout",
     "output_type": "stream",
     "text": [
      "Accuracy = 0.6648575305291723\n",
      "Sensitivity = 0.6813953488372093\n",
      "Specificity = 0.6416938110749185\n"
     ]
    }
   ],
   "source": [
    "print(f'Accuracy = {ACC}')\n",
    "print(f'Sensitivity = {SEN}')\n",
    "print(f'Specificity = {SPE}')"
   ]
  },
  {
   "cell_type": "markdown",
   "metadata": {},
   "source": [
    "#### Saving model"
   ]
  },
  {
   "cell_type": "code",
   "execution_count": 28,
   "metadata": {},
   "outputs": [
    {
     "data": {
      "text/plain": [
       "['D:\\\\School\\\\Semester3\\\\Seminar - Reproducibility\\\\seminar-toxicity\\\\src\\\\models\\\\skin-sensitization\\\\rf-MAACS.joblib']"
      ]
     },
     "execution_count": 28,
     "metadata": {},
     "output_type": "execute_result"
    }
   ],
   "source": [
    "model_name = 'rf-MAACS.joblib'\n",
    "joblib.dump(rf, os.path.join(model_loc, model_name))"
   ]
  },
  {
   "cell_type": "code",
   "execution_count": null,
   "metadata": {},
   "outputs": [],
   "source": []
  }
 ],
 "metadata": {
  "kernelspec": {
   "display_name": "nextAID",
   "language": "python",
   "name": "nextaid"
  },
  "language_info": {
   "codemirror_mode": {
    "name": "ipython",
    "version": 3
   },
   "file_extension": ".py",
   "mimetype": "text/x-python",
   "name": "python",
   "nbconvert_exporter": "python",
   "pygments_lexer": "ipython3",
   "version": "3.10.6"
  }
 },
 "nbformat": 4,
 "nbformat_minor": 2
}

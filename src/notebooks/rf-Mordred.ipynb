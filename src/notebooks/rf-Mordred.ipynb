{
 "cells": [
  {
   "cell_type": "code",
   "execution_count": 1,
   "metadata": {},
   "outputs": [],
   "source": [
    "import numpy as np\n",
    "import pandas as pd\n",
    "import os\n",
    "\n",
    "from rdkit import Chem\n",
    "from wrapMordred import mordredWrapper\n",
    "\n",
    "from sklearn.model_selection import StratifiedShuffleSplit\n",
    "from sklearn.model_selection import cross_validate\n",
    "from sklearn.ensemble import RandomForestClassifier\n",
    "from sklearn.metrics import confusion_matrix\n",
    "import optuna\n",
    "import joblib"
   ]
  },
  {
   "cell_type": "code",
   "execution_count": 2,
   "metadata": {},
   "outputs": [],
   "source": [
    "np.random.seed(1234)"
   ]
  },
  {
   "cell_type": "code",
   "execution_count": 3,
   "metadata": {},
   "outputs": [],
   "source": [
    "# endpoint = 'skin-sensitization'\n",
    "endpoint = 'eye-irritation'\n",
    "\n",
    "loc = r'D:\\School\\Semester3\\Seminar - Reproducibility\\seminar-toxicity\\data'\n",
    "endpoint_loc = os.path.join(loc, endpoint)\n",
    "model = r'D:\\School\\Semester3\\Seminar - Reproducibility\\seminar-toxicity\\src\\models'\n",
    "model_loc = os.path.join(model, endpoint)"
   ]
  },
  {
   "cell_type": "code",
   "execution_count": 4,
   "metadata": {},
   "outputs": [],
   "source": [
    "filename = 'train.csv'\n",
    "df_train = pd.read_csv(os.path.join(endpoint_loc, filename))"
   ]
  },
  {
   "cell_type": "code",
   "execution_count": 5,
   "metadata": {},
   "outputs": [
    {
     "data": {
      "text/plain": [
       "(3101, 2)"
      ]
     },
     "execution_count": 5,
     "metadata": {},
     "output_type": "execute_result"
    }
   ],
   "source": [
    "df_train.shape"
   ]
  },
  {
   "cell_type": "code",
   "execution_count": 6,
   "metadata": {},
   "outputs": [
    {
     "data": {
      "text/html": [
       "<div>\n",
       "<style scoped>\n",
       "    .dataframe tbody tr th:only-of-type {\n",
       "        vertical-align: middle;\n",
       "    }\n",
       "\n",
       "    .dataframe tbody tr th {\n",
       "        vertical-align: top;\n",
       "    }\n",
       "\n",
       "    .dataframe thead th {\n",
       "        text-align: right;\n",
       "    }\n",
       "</style>\n",
       "<table border=\"1\" class=\"dataframe\">\n",
       "  <thead>\n",
       "    <tr style=\"text-align: right;\">\n",
       "      <th></th>\n",
       "      <th>SMILES</th>\n",
       "      <th>Activity</th>\n",
       "    </tr>\n",
       "  </thead>\n",
       "  <tbody>\n",
       "    <tr>\n",
       "      <th>0</th>\n",
       "      <td>CCOP(OC1=C(C=C(C=C1C)C(C)(C)C)C(C)(C)C)OC1=C(C...</td>\n",
       "      <td>0</td>\n",
       "    </tr>\n",
       "    <tr>\n",
       "      <th>1</th>\n",
       "      <td>CCCCCCCCCCCCCCCCSC1NC2=CC(=CC=C2N=1)S(O)(=O)=O</td>\n",
       "      <td>1</td>\n",
       "    </tr>\n",
       "    <tr>\n",
       "      <th>2</th>\n",
       "      <td>O=C(CC(=O)CC1=CC(F)=C(F)C=C1F)N1CC2=NN=C(N2CC1...</td>\n",
       "      <td>0</td>\n",
       "    </tr>\n",
       "    <tr>\n",
       "      <th>3</th>\n",
       "      <td>CC1C=C(N)N(N=1)C1C=CC=CC=1</td>\n",
       "      <td>0</td>\n",
       "    </tr>\n",
       "    <tr>\n",
       "      <th>4</th>\n",
       "      <td>CC1CCCC(C)(C)C=1C(=O)C=CC</td>\n",
       "      <td>0</td>\n",
       "    </tr>\n",
       "  </tbody>\n",
       "</table>\n",
       "</div>"
      ],
      "text/plain": [
       "                                              SMILES  Activity\n",
       "0  CCOP(OC1=C(C=C(C=C1C)C(C)(C)C)C(C)(C)C)OC1=C(C...         0\n",
       "1     CCCCCCCCCCCCCCCCSC1NC2=CC(=CC=C2N=1)S(O)(=O)=O         1\n",
       "2  O=C(CC(=O)CC1=CC(F)=C(F)C=C1F)N1CC2=NN=C(N2CC1...         0\n",
       "3                         CC1C=C(N)N(N=1)C1C=CC=CC=1         0\n",
       "4                          CC1CCCC(C)(C)C=1C(=O)C=CC         0"
      ]
     },
     "execution_count": 6,
     "metadata": {},
     "output_type": "execute_result"
    }
   ],
   "source": [
    "df_train.head()"
   ]
  },
  {
   "cell_type": "code",
   "execution_count": 7,
   "metadata": {},
   "outputs": [],
   "source": [
    "filename = 'val.csv'\n",
    "df_val = pd.read_csv(os.path.join(endpoint_loc, filename))"
   ]
  },
  {
   "cell_type": "code",
   "execution_count": 8,
   "metadata": {},
   "outputs": [
    {
     "data": {
      "text/plain": [
       "(776, 2)"
      ]
     },
     "execution_count": 8,
     "metadata": {},
     "output_type": "execute_result"
    }
   ],
   "source": [
    "df_val.shape"
   ]
  },
  {
   "cell_type": "code",
   "execution_count": 9,
   "metadata": {},
   "outputs": [
    {
     "data": {
      "text/html": [
       "<div>\n",
       "<style scoped>\n",
       "    .dataframe tbody tr th:only-of-type {\n",
       "        vertical-align: middle;\n",
       "    }\n",
       "\n",
       "    .dataframe tbody tr th {\n",
       "        vertical-align: top;\n",
       "    }\n",
       "\n",
       "    .dataframe thead th {\n",
       "        text-align: right;\n",
       "    }\n",
       "</style>\n",
       "<table border=\"1\" class=\"dataframe\">\n",
       "  <thead>\n",
       "    <tr style=\"text-align: right;\">\n",
       "      <th></th>\n",
       "      <th>SMILES</th>\n",
       "      <th>Activity</th>\n",
       "    </tr>\n",
       "  </thead>\n",
       "  <tbody>\n",
       "    <tr>\n",
       "      <th>0</th>\n",
       "      <td>COC1=CC=C(CC2CC2)C=C1</td>\n",
       "      <td>1</td>\n",
       "    </tr>\n",
       "    <tr>\n",
       "      <th>1</th>\n",
       "      <td>CC(C)OP(=O)(OC(C)C)SCC1C=CC=CC=1</td>\n",
       "      <td>1</td>\n",
       "    </tr>\n",
       "    <tr>\n",
       "      <th>2</th>\n",
       "      <td>NNC(N)=O</td>\n",
       "      <td>1</td>\n",
       "    </tr>\n",
       "    <tr>\n",
       "      <th>3</th>\n",
       "      <td>OS(=O)(=O)C1C=CC=C2C=C(C=C(NC3C=CC=CC=3)C2=1)N...</td>\n",
       "      <td>1</td>\n",
       "    </tr>\n",
       "    <tr>\n",
       "      <th>4</th>\n",
       "      <td>CCCC1COC(CC1)C1C=CC(O)=CC=1</td>\n",
       "      <td>1</td>\n",
       "    </tr>\n",
       "  </tbody>\n",
       "</table>\n",
       "</div>"
      ],
      "text/plain": [
       "                                              SMILES  Activity\n",
       "0                              COC1=CC=C(CC2CC2)C=C1         1\n",
       "1                   CC(C)OP(=O)(OC(C)C)SCC1C=CC=CC=1         1\n",
       "2                                           NNC(N)=O         1\n",
       "3  OS(=O)(=O)C1C=CC=C2C=C(C=C(NC3C=CC=CC=3)C2=1)N...         1\n",
       "4                        CCCC1COC(CC1)C1C=CC(O)=CC=1         1"
      ]
     },
     "execution_count": 9,
     "metadata": {},
     "output_type": "execute_result"
    }
   ],
   "source": [
    "df_val.head()"
   ]
  },
  {
   "cell_type": "code",
   "execution_count": 10,
   "metadata": {},
   "outputs": [],
   "source": [
    "train_smiles = df_train['SMILES'].to_numpy()\n",
    "train_labels = df_train['Activity'].to_numpy()\n",
    "val_smiles = df_val['SMILES'].to_numpy()\n",
    "val_labels = df_val['Activity'].to_numpy()"
   ]
  },
  {
   "cell_type": "code",
   "execution_count": 11,
   "metadata": {},
   "outputs": [
    {
     "name": "stdout",
     "output_type": "stream",
     "text": [
      "train size smiles : (3101,)\n",
      "train size labels : (3101,)\n",
      "pos samples in train size : (2121,)\n",
      "neg samples in train size : (980,)\n",
      "val size smiles : (776,)\n",
      "val size labels : (776,)\n",
      "pos samples in val size : (531,)\n",
      "neg samples in val size : (245,)\n"
     ]
    }
   ],
   "source": [
    "print('train size smiles :', train_smiles.shape)\n",
    "print('train size labels :', train_labels.shape)\n",
    "print('pos samples in train size :', train_labels[train_labels == 1].shape)\n",
    "print('neg samples in train size :', train_labels[train_labels == 0].shape)\n",
    "print('val size smiles :', val_smiles.shape)\n",
    "print('val size labels :', val_labels.shape)\n",
    "print('pos samples in val size :', val_labels[val_labels == 1].shape)\n",
    "print('neg samples in val size :', val_labels[val_labels == 0].shape)"
   ]
  },
  {
   "cell_type": "code",
   "execution_count": 12,
   "metadata": {},
   "outputs": [
    {
     "name": "stderr",
     "output_type": "stream",
     "text": [
      "[17:47:56] Can't kekulize mol.  Unkekulized atoms: 0 1 2 3 4\n",
      "[17:47:56] Can't kekulize mol.  Unkekulized atoms: 10 11 12 13 14 15 16 18 19 20 21 22 23\n",
      "[17:47:56] Can't kekulize mol.  Unkekulized atoms: 5 6 7 9 10 11 12 13 14 15 16 17 18\n",
      "[17:47:56] Can't kekulize mol.  Unkekulized atoms: 5 6 7 9 10 11 12 13 14 15 16 17 18\n",
      "[17:47:56] Can't kekulize mol.  Unkekulized atoms: 10 11 12 13 15 16 17 19 20 21 25 27 28\n",
      "[17:47:56] Can't kekulize mol.  Unkekulized atoms: 1 2 3 4 5 6 7 9 10 11 13 14 15\n",
      "  1%|          | 21/3871 [00:02<05:34, 11.52it/s] "
     ]
    },
    {
     "name": "stdout",
     "output_type": "stream",
     "text": [
      "c:\\Users\\kevin\\nextAID\\lib\\site-packages\\numpy\\core\\fromnumeric.py:86: RuntimeWarning: overflow encountered in reduce\n",
      "  return ufunc.reduce(obj, axis, dtype, out, **passkwargs)\n"
     ]
    },
    {
     "name": "stderr",
     "output_type": "stream",
     "text": [
      "  3%|▎         | 131/3871 [00:05<02:29, 24.93it/s]"
     ]
    },
    {
     "name": "stdout",
     "output_type": "stream",
     "text": [
      "c:\\Users\\kevin\\nextAID\\lib\\site-packages\\numpy\\core\\fromnumeric.py:86: RuntimeWarning: overflow encountered in reduce\n",
      "  return ufunc.reduce(obj, axis, dtype, out, **passkwargs)\n"
     ]
    },
    {
     "name": "stderr",
     "output_type": "stream",
     "text": [
      "  4%|▍         | 164/3871 [00:05<01:56, 31.80it/s]"
     ]
    },
    {
     "name": "stdout",
     "output_type": "stream",
     "text": [
      "c:\\Users\\kevin\\nextAID\\lib\\site-packages\\numpy\\core\\fromnumeric.py:86: RuntimeWarning: overflow encountered in reduce\n",
      "  return ufunc.reduce(obj, axis, dtype, out, **passkwargs)\n"
     ]
    },
    {
     "name": "stderr",
     "output_type": "stream",
     "text": [
      "  6%|▌         | 235/3871 [00:07<01:07, 53.47it/s]"
     ]
    },
    {
     "name": "stdout",
     "output_type": "stream",
     "text": [
      "c:\\Users\\kevin\\nextAID\\lib\\site-packages\\numpy\\core\\fromnumeric.py:86: RuntimeWarning: overflow encountered in reduce\n",
      "  return ufunc.reduce(obj, axis, dtype, out, **passkwargs)\n"
     ]
    },
    {
     "name": "stderr",
     "output_type": "stream",
     "text": [
      "  6%|▋         | 251/3871 [00:08<01:48, 33.27it/s]"
     ]
    },
    {
     "name": "stdout",
     "output_type": "stream",
     "text": [
      "c:\\Users\\kevin\\nextAID\\lib\\site-packages\\numpy\\core\\fromnumeric.py:86: RuntimeWarning: overflow encountered in reduce\n",
      "  return ufunc.reduce(obj, axis, dtype, out, **passkwargs)\n"
     ]
    },
    {
     "name": "stderr",
     "output_type": "stream",
     "text": [
      "  8%|▊         | 303/3871 [00:09<02:00, 29.49it/s]"
     ]
    },
    {
     "name": "stdout",
     "output_type": "stream",
     "text": [
      "c:\\Users\\kevin\\nextAID\\lib\\site-packages\\numpy\\core\\fromnumeric.py:86: RuntimeWarning: overflow encountered in reduce\n",
      "  return ufunc.reduce(obj, axis, dtype, out, **passkwargs)\n"
     ]
    },
    {
     "name": "stderr",
     "output_type": "stream",
     "text": [
      " 22%|██▏       | 865/3871 [00:24<01:59, 25.08it/s]"
     ]
    },
    {
     "name": "stdout",
     "output_type": "stream",
     "text": [
      "c:\\Users\\kevin\\nextAID\\lib\\site-packages\\numpy\\core\\fromnumeric.py:86: RuntimeWarning: overflow encountered in reduce\n",
      "  return ufunc.reduce(obj, axis, dtype, out, **passkwargs)\n"
     ]
    },
    {
     "name": "stderr",
     "output_type": "stream",
     "text": [
      " 32%|███▏      | 1228/3871 [00:35<01:46, 24.75it/s]"
     ]
    },
    {
     "name": "stdout",
     "output_type": "stream",
     "text": [
      "c:\\Users\\kevin\\nextAID\\lib\\site-packages\\numpy\\core\\fromnumeric.py:86: RuntimeWarning: overflow encountered in reduce\n",
      "  return ufunc.reduce(obj, axis, dtype, out, **passkwargs)\n"
     ]
    },
    {
     "name": "stderr",
     "output_type": "stream",
     "text": [
      "100%|██████████| 3871/3871 [02:10<00:00, 29.77it/s]\n"
     ]
    }
   ],
   "source": [
    "mordred = mordredWrapper(np.concatenate((train_smiles,val_smiles)))"
   ]
  },
  {
   "cell_type": "code",
   "execution_count": 13,
   "metadata": {},
   "outputs": [
    {
     "name": "stderr",
     "output_type": "stream",
     "text": [
      "c:\\Users\\kevin\\nextAID\\lib\\site-packages\\numpy\\core\\fromnumeric.py:86: RuntimeWarning: overflow encountered in reduce\n",
      "  return ufunc.reduce(obj, axis, dtype, out, **passkwargs)\n",
      "[17:51:25] Can't kekulize mol.  Unkekulized atoms: 0 1 2 3 4\n",
      "[17:52:05] Can't kekulize mol.  Unkekulized atoms: 10 11 12 13 14 15 16 18 19 20 21 22 23\n",
      "[17:53:11] Can't kekulize mol.  Unkekulized atoms: 5 6 7 9 10 11 12 13 14 15 16 17 18\n",
      "[17:53:31] Can't kekulize mol.  Unkekulized atoms: 5 6 7 9 10 11 12 13 14 15 16 17 18\n",
      "[17:53:39] Can't kekulize mol.  Unkekulized atoms: 10 11 12 13 15 16 17 19 20 21 25 27 28\n",
      "[17:56:49] Can't kekulize mol.  Unkekulized atoms: 1 2 3 4 5 6 7 9 10 11 13 14 15\n"
     ]
    }
   ],
   "source": [
    "train_fingerprints, train_labels = mordred.get_fingerprints(train_smiles, train_labels)\n",
    "val_fingerprints, val_labels = mordred.get_fingerprints(val_smiles, val_labels)"
   ]
  },
  {
   "cell_type": "code",
   "execution_count": 14,
   "metadata": {},
   "outputs": [
    {
     "name": "stdout",
     "output_type": "stream",
     "text": [
      "train size fingerprints : (3096, 945)\n",
      "train size labels : (3096,)\n",
      "pos samples in train size : (2116,)\n",
      "neg samples in train size : (980,)\n",
      "val size fingerprints : (775, 945)\n",
      "val size labels : (775,)\n",
      "pos samples in val size : (530,)\n",
      "neg samples in val size : (245,)\n"
     ]
    }
   ],
   "source": [
    "print('train size fingerprints :', train_fingerprints.shape)\n",
    "print('train size labels :', train_labels.shape)\n",
    "print('pos samples in train size :', train_labels[train_labels == 1].shape)\n",
    "print('neg samples in train size :', train_labels[train_labels == 0].shape)\n",
    "print('val size fingerprints :', val_fingerprints.shape)\n",
    "print('val size labels :', val_labels.shape)\n",
    "print('pos samples in val size :', val_labels[val_labels == 1].shape)\n",
    "print('neg samples in val size :', val_labels[val_labels == 0].shape)"
   ]
  },
  {
   "cell_type": "code",
   "execution_count": 15,
   "metadata": {},
   "outputs": [],
   "source": [
    "def objective(trial, xtrain, ytrain):\n",
    "    n = trial.suggest_int('n_estimators', 50, 250)\n",
    "    rf = RandomForestClassifier(n_estimators = n)\n",
    "\n",
    "    scores = cross_validate(rf, xtrain, ytrain, cv=5, scoring='roc_auc')\n",
    "    mean_roc = scores['test_score'].mean()\n",
    "\n",
    "    return 1/(mean_roc + 1e-6)"
   ]
  },
  {
   "cell_type": "code",
   "execution_count": 16,
   "metadata": {},
   "outputs": [
    {
     "name": "stderr",
     "output_type": "stream",
     "text": [
      "[I 2024-01-30 17:58:00,914] A new study created in RDB with name: rf_study_mordred\n",
      "[I 2024-01-30 17:58:12,520] Trial 0 finished with value: 1.2800709803278167 and parameters: {'n_estimators': 55}. Best is trial 0 with value: 1.2800709803278167.\n",
      "[I 2024-01-30 17:58:44,051] Trial 1 finished with value: 1.2688421434964787 and parameters: {'n_estimators': 152}. Best is trial 1 with value: 1.2688421434964787.\n",
      "[I 2024-01-30 17:59:01,291] Trial 2 finished with value: 1.274100012755968 and parameters: {'n_estimators': 85}. Best is trial 1 with value: 1.2688421434964787.\n",
      "[I 2024-01-30 17:59:45,764] Trial 3 finished with value: 1.2654108499778598 and parameters: {'n_estimators': 226}. Best is trial 3 with value: 1.2654108499778598.\n",
      "[I 2024-01-30 18:00:17,415] Trial 4 finished with value: 1.2681920028195828 and parameters: {'n_estimators': 162}. Best is trial 3 with value: 1.2654108499778598.\n",
      "[I 2024-01-30 18:00:49,297] Trial 5 finished with value: 1.265993842611653 and parameters: {'n_estimators': 161}. Best is trial 3 with value: 1.2654108499778598.\n",
      "[I 2024-01-30 18:01:05,991] Trial 6 finished with value: 1.2717082354072176 and parameters: {'n_estimators': 80}. Best is trial 3 with value: 1.2654108499778598.\n",
      "[I 2024-01-30 18:01:38,742] Trial 7 finished with value: 1.270890695220897 and parameters: {'n_estimators': 163}. Best is trial 3 with value: 1.2654108499778598.\n",
      "[I 2024-01-30 18:01:59,826] Trial 8 finished with value: 1.2680302681309303 and parameters: {'n_estimators': 106}. Best is trial 3 with value: 1.2654108499778598.\n",
      "[I 2024-01-30 18:02:46,457] Trial 9 finished with value: 1.2623294740044144 and parameters: {'n_estimators': 240}. Best is trial 9 with value: 1.2623294740044144.\n",
      "[I 2024-01-30 18:03:33,316] Trial 10 finished with value: 1.2643140923996208 and parameters: {'n_estimators': 242}. Best is trial 9 with value: 1.2623294740044144.\n",
      "[I 2024-01-30 18:04:21,961] Trial 11 finished with value: 1.2684578716469972 and parameters: {'n_estimators': 246}. Best is trial 9 with value: 1.2623294740044144.\n",
      "[I 2024-01-30 18:05:10,419] Trial 12 finished with value: 1.267833918068738 and parameters: {'n_estimators': 210}. Best is trial 9 with value: 1.2623294740044144.\n",
      "[I 2024-01-30 18:05:57,446] Trial 13 finished with value: 1.2643056209524457 and parameters: {'n_estimators': 200}. Best is trial 9 with value: 1.2623294740044144.\n",
      "[I 2024-01-30 18:06:43,582] Trial 14 finished with value: 1.2699078845213008 and parameters: {'n_estimators': 199}. Best is trial 9 with value: 1.2623294740044144.\n",
      "[I 2024-01-30 18:07:27,975] Trial 15 finished with value: 1.2619014254894267 and parameters: {'n_estimators': 192}. Best is trial 15 with value: 1.2619014254894267.\n",
      "[I 2024-01-30 18:08:12,194] Trial 16 finished with value: 1.2623903366367133 and parameters: {'n_estimators': 191}. Best is trial 15 with value: 1.2619014254894267.\n",
      "[I 2024-01-30 18:08:43,961] Trial 17 finished with value: 1.2686634530831773 and parameters: {'n_estimators': 134}. Best is trial 15 with value: 1.2619014254894267.\n",
      "[I 2024-01-30 18:09:35,260] Trial 18 finished with value: 1.266822568543423 and parameters: {'n_estimators': 216}. Best is trial 15 with value: 1.2619014254894267.\n",
      "[I 2024-01-30 18:10:11,086] Trial 19 finished with value: 1.2693754412029732 and parameters: {'n_estimators': 183}. Best is trial 15 with value: 1.2619014254894267.\n"
     ]
    }
   ],
   "source": [
    "study = optuna.create_study(study_name='rf_study_mordred', storage='sqlite:///rf_study_mordred.db')  # Create a new study.\n",
    "study.optimize(lambda trial: objective(trial, train_fingerprints, train_labels), n_trials=20)  # Invoke optimization of the objective function."
   ]
  },
  {
   "cell_type": "code",
   "execution_count": 17,
   "metadata": {},
   "outputs": [
    {
     "data": {
      "text/plain": [
       "{'n_estimators': 192}"
      ]
     },
     "execution_count": 17,
     "metadata": {},
     "output_type": "execute_result"
    }
   ],
   "source": [
    "study.best_params"
   ]
  },
  {
   "cell_type": "code",
   "execution_count": 18,
   "metadata": {},
   "outputs": [
    {
     "data": {
      "text/html": [
       "<style>#sk-container-id-1 {color: black;background-color: white;}#sk-container-id-1 pre{padding: 0;}#sk-container-id-1 div.sk-toggleable {background-color: white;}#sk-container-id-1 label.sk-toggleable__label {cursor: pointer;display: block;width: 100%;margin-bottom: 0;padding: 0.3em;box-sizing: border-box;text-align: center;}#sk-container-id-1 label.sk-toggleable__label-arrow:before {content: \"▸\";float: left;margin-right: 0.25em;color: #696969;}#sk-container-id-1 label.sk-toggleable__label-arrow:hover:before {color: black;}#sk-container-id-1 div.sk-estimator:hover label.sk-toggleable__label-arrow:before {color: black;}#sk-container-id-1 div.sk-toggleable__content {max-height: 0;max-width: 0;overflow: hidden;text-align: left;background-color: #f0f8ff;}#sk-container-id-1 div.sk-toggleable__content pre {margin: 0.2em;color: black;border-radius: 0.25em;background-color: #f0f8ff;}#sk-container-id-1 input.sk-toggleable__control:checked~div.sk-toggleable__content {max-height: 200px;max-width: 100%;overflow: auto;}#sk-container-id-1 input.sk-toggleable__control:checked~label.sk-toggleable__label-arrow:before {content: \"▾\";}#sk-container-id-1 div.sk-estimator input.sk-toggleable__control:checked~label.sk-toggleable__label {background-color: #d4ebff;}#sk-container-id-1 div.sk-label input.sk-toggleable__control:checked~label.sk-toggleable__label {background-color: #d4ebff;}#sk-container-id-1 input.sk-hidden--visually {border: 0;clip: rect(1px 1px 1px 1px);clip: rect(1px, 1px, 1px, 1px);height: 1px;margin: -1px;overflow: hidden;padding: 0;position: absolute;width: 1px;}#sk-container-id-1 div.sk-estimator {font-family: monospace;background-color: #f0f8ff;border: 1px dotted black;border-radius: 0.25em;box-sizing: border-box;margin-bottom: 0.5em;}#sk-container-id-1 div.sk-estimator:hover {background-color: #d4ebff;}#sk-container-id-1 div.sk-parallel-item::after {content: \"\";width: 100%;border-bottom: 1px solid gray;flex-grow: 1;}#sk-container-id-1 div.sk-label:hover label.sk-toggleable__label {background-color: #d4ebff;}#sk-container-id-1 div.sk-serial::before {content: \"\";position: absolute;border-left: 1px solid gray;box-sizing: border-box;top: 0;bottom: 0;left: 50%;z-index: 0;}#sk-container-id-1 div.sk-serial {display: flex;flex-direction: column;align-items: center;background-color: white;padding-right: 0.2em;padding-left: 0.2em;position: relative;}#sk-container-id-1 div.sk-item {position: relative;z-index: 1;}#sk-container-id-1 div.sk-parallel {display: flex;align-items: stretch;justify-content: center;background-color: white;position: relative;}#sk-container-id-1 div.sk-item::before, #sk-container-id-1 div.sk-parallel-item::before {content: \"\";position: absolute;border-left: 1px solid gray;box-sizing: border-box;top: 0;bottom: 0;left: 50%;z-index: -1;}#sk-container-id-1 div.sk-parallel-item {display: flex;flex-direction: column;z-index: 1;position: relative;background-color: white;}#sk-container-id-1 div.sk-parallel-item:first-child::after {align-self: flex-end;width: 50%;}#sk-container-id-1 div.sk-parallel-item:last-child::after {align-self: flex-start;width: 50%;}#sk-container-id-1 div.sk-parallel-item:only-child::after {width: 0;}#sk-container-id-1 div.sk-dashed-wrapped {border: 1px dashed gray;margin: 0 0.4em 0.5em 0.4em;box-sizing: border-box;padding-bottom: 0.4em;background-color: white;}#sk-container-id-1 div.sk-label label {font-family: monospace;font-weight: bold;display: inline-block;line-height: 1.2em;}#sk-container-id-1 div.sk-label-container {text-align: center;}#sk-container-id-1 div.sk-container {/* jupyter's `normalize.less` sets `[hidden] { display: none; }` but bootstrap.min.css set `[hidden] { display: none !important; }` so we also need the `!important` here to be able to override the default hidden behavior on the sphinx rendered scikit-learn.org. See: https://github.com/scikit-learn/scikit-learn/issues/21755 */display: inline-block !important;position: relative;}#sk-container-id-1 div.sk-text-repr-fallback {display: none;}</style><div id=\"sk-container-id-1\" class=\"sk-top-container\"><div class=\"sk-text-repr-fallback\"><pre>RandomForestClassifier(n_estimators=192, random_state=1234)</pre><b>In a Jupyter environment, please rerun this cell to show the HTML representation or trust the notebook. <br />On GitHub, the HTML representation is unable to render, please try loading this page with nbviewer.org.</b></div><div class=\"sk-container\" hidden><div class=\"sk-item\"><div class=\"sk-estimator sk-toggleable\"><input class=\"sk-toggleable__control sk-hidden--visually\" id=\"sk-estimator-id-1\" type=\"checkbox\" checked><label for=\"sk-estimator-id-1\" class=\"sk-toggleable__label sk-toggleable__label-arrow\">RandomForestClassifier</label><div class=\"sk-toggleable__content\"><pre>RandomForestClassifier(n_estimators=192, random_state=1234)</pre></div></div></div></div></div>"
      ],
      "text/plain": [
       "RandomForestClassifier(n_estimators=192, random_state=1234)"
      ]
     },
     "execution_count": 18,
     "metadata": {},
     "output_type": "execute_result"
    }
   ],
   "source": [
    "rf = RandomForestClassifier(n_estimators = 192, random_state=1234)\n",
    "rf.fit(train_fingerprints, train_labels)"
   ]
  },
  {
   "cell_type": "code",
   "execution_count": 19,
   "metadata": {},
   "outputs": [],
   "source": [
    "# performing predictions on the test dataset \n",
    "y_pred = rf.predict(train_fingerprints)"
   ]
  },
  {
   "cell_type": "code",
   "execution_count": 20,
   "metadata": {},
   "outputs": [
    {
     "name": "stdout",
     "output_type": "stream",
     "text": [
      "Train accuracy =  0.9996770025839793\n"
     ]
    }
   ],
   "source": [
    "print('Train accuracy = ', (y_pred == train_labels).sum()/len(train_labels))"
   ]
  },
  {
   "cell_type": "code",
   "execution_count": 21,
   "metadata": {},
   "outputs": [],
   "source": [
    "y_pred = rf.predict(val_fingerprints)"
   ]
  },
  {
   "cell_type": "code",
   "execution_count": 22,
   "metadata": {},
   "outputs": [
    {
     "name": "stdout",
     "output_type": "stream",
     "text": [
      "Val accuracy =  0.7651612903225806\n"
     ]
    }
   ],
   "source": [
    "print('Val accuracy = ', (y_pred == val_labels).sum()/len(val_labels))"
   ]
  },
  {
   "cell_type": "code",
   "execution_count": 23,
   "metadata": {},
   "outputs": [],
   "source": [
    "tn, fp, fn, tp = confusion_matrix(y_pred, val_labels).ravel()"
   ]
  },
  {
   "cell_type": "code",
   "execution_count": 24,
   "metadata": {},
   "outputs": [
    {
     "data": {
      "text/plain": [
       "(113, 50, 132, 480)"
      ]
     },
     "execution_count": 24,
     "metadata": {},
     "output_type": "execute_result"
    }
   ],
   "source": [
    "(tn, fp, fn, tp)"
   ]
  },
  {
   "cell_type": "code",
   "execution_count": 25,
   "metadata": {},
   "outputs": [],
   "source": [
    "ACC = (tp + tn)/(tp + tn + fn + fp)\n",
    "SEN = tp/(tp + fn)\n",
    "SPE = tn/(tn + fp)"
   ]
  },
  {
   "cell_type": "code",
   "execution_count": 26,
   "metadata": {},
   "outputs": [
    {
     "name": "stdout",
     "output_type": "stream",
     "text": [
      "Accuracy = 0.7651612903225806\n",
      "Sensitivity = 0.7843137254901961\n",
      "Specificity = 0.6932515337423313\n"
     ]
    }
   ],
   "source": [
    "print(f'Accuracy = {ACC}')\n",
    "print(f'Sensitivity = {SEN}')\n",
    "print(f'Specificity = {SPE}')"
   ]
  },
  {
   "cell_type": "markdown",
   "metadata": {},
   "source": [
    "#### Saving model"
   ]
  },
  {
   "cell_type": "code",
   "execution_count": 27,
   "metadata": {},
   "outputs": [
    {
     "data": {
      "text/plain": [
       "['D:\\\\School\\\\Semester3\\\\Seminar - Reproducibility\\\\seminar-toxicity\\\\src\\\\models\\\\eye-irritation\\\\rf-Mordred.joblib']"
      ]
     },
     "execution_count": 27,
     "metadata": {},
     "output_type": "execute_result"
    }
   ],
   "source": [
    "model_name = 'rf-Mordred.joblib'\n",
    "joblib.dump(rf, os.path.join(model_loc, model_name))"
   ]
  },
  {
   "cell_type": "code",
   "execution_count": null,
   "metadata": {},
   "outputs": [],
   "source": []
  }
 ],
 "metadata": {
  "kernelspec": {
   "display_name": "nextAID",
   "language": "python",
   "name": "nextaid"
  },
  "language_info": {
   "codemirror_mode": {
    "name": "ipython",
    "version": 3
   },
   "file_extension": ".py",
   "mimetype": "text/x-python",
   "name": "python",
   "nbconvert_exporter": "python",
   "pygments_lexer": "ipython3",
   "version": "3.10.6"
  }
 },
 "nbformat": 4,
 "nbformat_minor": 2
}

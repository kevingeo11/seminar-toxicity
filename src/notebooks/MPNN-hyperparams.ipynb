{
 "cells": [
  {
   "cell_type": "code",
   "execution_count": null,
   "metadata": {},
   "outputs": [],
   "source": [
    "import numpy as np\n",
    "import pandas as pd\n",
    "import os\n",
    "\n",
    "import chemprop\n",
    "\n",
    "\n",
    "import joblib"
   ]
  },
  {
   "cell_type": "code",
   "execution_count": null,
   "metadata": {},
   "outputs": [],
   "source": [
    "np.random.seed(1234)"
   ]
  },
  {
   "cell_type": "code",
   "execution_count": null,
   "metadata": {},
   "outputs": [],
   "source": [
    "endpoint = 'skin-sensitization'\n",
    "# endpoint = 'eye-irritation'\n",
    "\n",
    "loc = r'D:\\School\\Semester3\\Seminar - Reproducibility\\seminar-toxicity\\data'\n",
    "endpoint_loc = os.path.join(loc, endpoint)\n",
    "model = r'D:\\School\\Semester3\\Seminar - Reproducibility\\seminar-toxicity\\src\\models'\n",
    "model_loc = os.path.join(model, endpoint)"
   ]
  },
  {
   "cell_type": "code",
   "execution_count": null,
   "metadata": {},
   "outputs": [],
   "source": [
    "train_filename = 'train.csv'\n",
    "val_filename = 'val.csv'\n",
    "arguments = [\n",
    "    '--data_path', os.path.join(endpoint_loc, train_filename),\n",
    "    '--dataset_type', 'classification',\n",
    "    '--num_iters', '1',\n",
    "    '--config_save_path', os.path.join(model_loc, 'config.json'),\n",
    "    '--separate_test_path', os.path.join(endpoint_loc, val_filename),  \n",
    "    '--save_dir', model_loc,\n",
    "    '--target_columns', 'Activity', \n",
    "    '--smiles_columns', 'SMILES',\n",
    "    '--features_generator', 'rdkit_2d_normalized', \n",
    "    '--no_features_scaling'\n",
    "]\n",
    "\n",
    "args = chemprop.args.HyperoptArgs().parse_args(arguments)\n",
    "chemprop.hyperparameter_optimization.hyperopt(args=args)"
   ]
  },
  {
   "cell_type": "code",
   "execution_count": null,
   "metadata": {},
   "outputs": [],
   "source": []
  }
 ],
 "metadata": {
  "kernelspec": {
   "display_name": "nextAID",
   "language": "python",
   "name": "nextaid"
  },
  "language_info": {
   "codemirror_mode": {
    "name": "ipython",
    "version": 3
   },
   "file_extension": ".py",
   "mimetype": "text/x-python",
   "name": "python",
   "nbconvert_exporter": "python",
   "pygments_lexer": "ipython3",
   "version": "3.10.6"
  }
 },
 "nbformat": 4,
 "nbformat_minor": 2
}

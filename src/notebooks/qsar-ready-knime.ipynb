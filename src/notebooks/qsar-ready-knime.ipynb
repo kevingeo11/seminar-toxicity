{
 "cells": [
  {
   "cell_type": "code",
   "execution_count": 46,
   "metadata": {},
   "outputs": [],
   "source": [
    "import numpy as np\n",
    "import pandas as pd"
   ]
  },
  {
   "cell_type": "code",
   "execution_count": 47,
   "metadata": {},
   "outputs": [],
   "source": [
    "loc = 'D:\\\\School\\\\Semester3\\\\Seminar - Reproducibility\\\\seminar-toxicity\\\\data\\\\eye-irritation\\\\knime-qsar\\\\'"
   ]
  },
  {
   "cell_type": "code",
   "execution_count": 48,
   "metadata": {},
   "outputs": [],
   "source": [
    "file = loc + 'pos.smiles.knime.csv'\n",
    "df_input = pd.read_csv(file)"
   ]
  },
  {
   "cell_type": "code",
   "execution_count": 49,
   "metadata": {},
   "outputs": [
    {
     "data": {
      "text/html": [
       "<div>\n",
       "<style scoped>\n",
       "    .dataframe tbody tr th:only-of-type {\n",
       "        vertical-align: middle;\n",
       "    }\n",
       "\n",
       "    .dataframe tbody tr th {\n",
       "        vertical-align: top;\n",
       "    }\n",
       "\n",
       "    .dataframe thead th {\n",
       "        text-align: right;\n",
       "    }\n",
       "</style>\n",
       "<table border=\"1\" class=\"dataframe\">\n",
       "  <thead>\n",
       "    <tr style=\"text-align: right;\">\n",
       "      <th></th>\n",
       "      <th>CASRN</th>\n",
       "      <th>SMILES</th>\n",
       "    </tr>\n",
       "  </thead>\n",
       "  <tbody>\n",
       "    <tr>\n",
       "      <th>0</th>\n",
       "      <td>51581-32-9</td>\n",
       "      <td>CN(C)C(=O)OC1=CN=CC=C1</td>\n",
       "    </tr>\n",
       "    <tr>\n",
       "      <th>1</th>\n",
       "      <td>35155-28-3</td>\n",
       "      <td>[H][C@]1(CO)CN(C)[C@]2([H])CC3=CN(C)C4=CC=CC(=...</td>\n",
       "    </tr>\n",
       "    <tr>\n",
       "      <th>2</th>\n",
       "      <td>289-95-2</td>\n",
       "      <td>C1=CN=CN=C1</td>\n",
       "    </tr>\n",
       "    <tr>\n",
       "      <th>3</th>\n",
       "      <td>77-78-1</td>\n",
       "      <td>COS(=O)(=O)OC</td>\n",
       "    </tr>\n",
       "    <tr>\n",
       "      <th>4</th>\n",
       "      <td>80-73-9</td>\n",
       "      <td>CN1CCN(C)C1=O</td>\n",
       "    </tr>\n",
       "  </tbody>\n",
       "</table>\n",
       "</div>"
      ],
      "text/plain": [
       "        CASRN                                             SMILES\n",
       "0  51581-32-9                             CN(C)C(=O)OC1=CN=CC=C1\n",
       "1  35155-28-3  [H][C@]1(CO)CN(C)[C@]2([H])CC3=CN(C)C4=CC=CC(=...\n",
       "2    289-95-2                                        C1=CN=CN=C1\n",
       "3     77-78-1                                      COS(=O)(=O)OC\n",
       "4     80-73-9                                      CN1CCN(C)C1=O"
      ]
     },
     "execution_count": 49,
     "metadata": {},
     "output_type": "execute_result"
    }
   ],
   "source": [
    "df_input.head()"
   ]
  },
  {
   "cell_type": "code",
   "execution_count": 50,
   "metadata": {},
   "outputs": [],
   "source": [
    "file = loc + 'pos.smiles_Summary_file.csv'\n",
    "df_knime = pd.read_csv(file)"
   ]
  },
  {
   "cell_type": "code",
   "execution_count": 51,
   "metadata": {},
   "outputs": [
    {
     "data": {
      "text/html": [
       "<div>\n",
       "<style scoped>\n",
       "    .dataframe tbody tr th:only-of-type {\n",
       "        vertical-align: middle;\n",
       "    }\n",
       "\n",
       "    .dataframe tbody tr th {\n",
       "        vertical-align: top;\n",
       "    }\n",
       "\n",
       "    .dataframe thead th {\n",
       "        text-align: right;\n",
       "    }\n",
       "</style>\n",
       "<table border=\"1\" class=\"dataframe\">\n",
       "  <thead>\n",
       "    <tr style=\"text-align: right;\">\n",
       "      <th></th>\n",
       "      <th>RowID</th>\n",
       "      <th>Molecule name</th>\n",
       "      <th>Original_SMILES</th>\n",
       "      <th>Number of connected components</th>\n",
       "      <th>Canonical_QSARr</th>\n",
       "      <th>InChI_Code_QSARr</th>\n",
       "      <th>InChI Key_QSARr</th>\n",
       "      <th>Salt_Solvent</th>\n",
       "      <th>Salt_Solvent_ID</th>\n",
       "    </tr>\n",
       "  </thead>\n",
       "  <tbody>\n",
       "    <tr>\n",
       "      <th>0</th>\n",
       "      <td>1</td>\n",
       "      <td>Molecule_1</td>\n",
       "      <td>CN(C)C(=O)OC1C=CC=NC=1</td>\n",
       "      <td>1</td>\n",
       "      <td>CN(C)C(=O)OC1C=CC=NC=1</td>\n",
       "      <td>InChI=1S/C8H10N2O2/c1-10(2)8(11)12-7-4-3-5-9-6...</td>\n",
       "      <td>VZELUFSMNDBCBO-UHFFFAOYSA-N</td>\n",
       "      <td>NaN</td>\n",
       "      <td>0</td>\n",
       "    </tr>\n",
       "    <tr>\n",
       "      <th>1</th>\n",
       "      <td>2</td>\n",
       "      <td>Molecule_2</td>\n",
       "      <td>CN1C=C2CC3N(C)CC(CO)CC3(OC)C3C=CC=C1C=32</td>\n",
       "      <td>1</td>\n",
       "      <td>CN1C=C2CC3N(C)CC(CO)CC3(OC)C3C=CC=C1C=32</td>\n",
       "      <td>InChI=1S/C18H24N2O2/c1-19-10-13-7-16-18(22-38-...</td>\n",
       "      <td>LVXVIPZBNJSUKL-UHFFFAOYSA-N</td>\n",
       "      <td>NaN</td>\n",
       "      <td>0</td>\n",
       "    </tr>\n",
       "    <tr>\n",
       "      <th>2</th>\n",
       "      <td>3</td>\n",
       "      <td>Molecule_3</td>\n",
       "      <td>C1N=CC=CN=1</td>\n",
       "      <td>1</td>\n",
       "      <td>C1N=CC=CN=1</td>\n",
       "      <td>InChI=1S/C4H4N2/c1-2-5-4-6-3-1/h1-4H</td>\n",
       "      <td>CZPWVGJYEJSRLH-UHFFFAOYSA-N</td>\n",
       "      <td>NaN</td>\n",
       "      <td>0</td>\n",
       "    </tr>\n",
       "    <tr>\n",
       "      <th>3</th>\n",
       "      <td>4</td>\n",
       "      <td>Molecule_4</td>\n",
       "      <td>COS(=O)(=O)OC</td>\n",
       "      <td>1</td>\n",
       "      <td>COS(=O)(=O)OC</td>\n",
       "      <td>InChI=1S/C2H6O4S/c1-5-7(34)6-2/h1-2H3</td>\n",
       "      <td>VAYGXNSJCAHWJZ-UHFFFAOYSA-N</td>\n",
       "      <td>NaN</td>\n",
       "      <td>0</td>\n",
       "    </tr>\n",
       "    <tr>\n",
       "      <th>4</th>\n",
       "      <td>5</td>\n",
       "      <td>Molecule_5</td>\n",
       "      <td>CN1CCN(C)C1=O</td>\n",
       "      <td>1</td>\n",
       "      <td>CN1CCN(C)C1=O</td>\n",
       "      <td>InChI=1S/C5H10N2O/c1-6-3-4-7(2)5(6)8/h3-4H21-2H3</td>\n",
       "      <td>CYSGHNMQYZDMIA-UHFFFAOYSA-N</td>\n",
       "      <td>NaN</td>\n",
       "      <td>0</td>\n",
       "    </tr>\n",
       "  </tbody>\n",
       "</table>\n",
       "</div>"
      ],
      "text/plain": [
       "   RowID Molecule name                           Original_SMILES   \n",
       "0      1    Molecule_1                    CN(C)C(=O)OC1C=CC=NC=1  \\\n",
       "1      2    Molecule_2  CN1C=C2CC3N(C)CC(CO)CC3(OC)C3C=CC=C1C=32   \n",
       "2      3    Molecule_3                               C1N=CC=CN=1   \n",
       "3      4    Molecule_4                             COS(=O)(=O)OC   \n",
       "4      5    Molecule_5                             CN1CCN(C)C1=O   \n",
       "\n",
       "   Number of connected components                           Canonical_QSARr   \n",
       "0                               1                    CN(C)C(=O)OC1C=CC=NC=1  \\\n",
       "1                               1  CN1C=C2CC3N(C)CC(CO)CC3(OC)C3C=CC=C1C=32   \n",
       "2                               1                               C1N=CC=CN=1   \n",
       "3                               1                             COS(=O)(=O)OC   \n",
       "4                               1                             CN1CCN(C)C1=O   \n",
       "\n",
       "                                    InChI_Code_QSARr   \n",
       "0  InChI=1S/C8H10N2O2/c1-10(2)8(11)12-7-4-3-5-9-6...  \\\n",
       "1  InChI=1S/C18H24N2O2/c1-19-10-13-7-16-18(22-38-...   \n",
       "2               InChI=1S/C4H4N2/c1-2-5-4-6-3-1/h1-4H   \n",
       "3              InChI=1S/C2H6O4S/c1-5-7(34)6-2/h1-2H3   \n",
       "4   InChI=1S/C5H10N2O/c1-6-3-4-7(2)5(6)8/h3-4H21-2H3   \n",
       "\n",
       "               InChI Key_QSARr Salt_Solvent  Salt_Solvent_ID  \n",
       "0  VZELUFSMNDBCBO-UHFFFAOYSA-N          NaN                0  \n",
       "1  LVXVIPZBNJSUKL-UHFFFAOYSA-N          NaN                0  \n",
       "2  CZPWVGJYEJSRLH-UHFFFAOYSA-N          NaN                0  \n",
       "3  VAYGXNSJCAHWJZ-UHFFFAOYSA-N          NaN                0  \n",
       "4  CYSGHNMQYZDMIA-UHFFFAOYSA-N          NaN                0  "
      ]
     },
     "execution_count": 51,
     "metadata": {},
     "output_type": "execute_result"
    }
   ],
   "source": [
    "df_knime.head()"
   ]
  },
  {
   "cell_type": "code",
   "execution_count": 52,
   "metadata": {},
   "outputs": [],
   "source": [
    "df_input['RowID'] = df_input.index + 1"
   ]
  },
  {
   "cell_type": "code",
   "execution_count": 53,
   "metadata": {},
   "outputs": [
    {
     "data": {
      "text/html": [
       "<div>\n",
       "<style scoped>\n",
       "    .dataframe tbody tr th:only-of-type {\n",
       "        vertical-align: middle;\n",
       "    }\n",
       "\n",
       "    .dataframe tbody tr th {\n",
       "        vertical-align: top;\n",
       "    }\n",
       "\n",
       "    .dataframe thead th {\n",
       "        text-align: right;\n",
       "    }\n",
       "</style>\n",
       "<table border=\"1\" class=\"dataframe\">\n",
       "  <thead>\n",
       "    <tr style=\"text-align: right;\">\n",
       "      <th></th>\n",
       "      <th>CASRN</th>\n",
       "      <th>SMILES</th>\n",
       "      <th>RowID</th>\n",
       "    </tr>\n",
       "  </thead>\n",
       "  <tbody>\n",
       "    <tr>\n",
       "      <th>0</th>\n",
       "      <td>51581-32-9</td>\n",
       "      <td>CN(C)C(=O)OC1=CN=CC=C1</td>\n",
       "      <td>1</td>\n",
       "    </tr>\n",
       "    <tr>\n",
       "      <th>1</th>\n",
       "      <td>35155-28-3</td>\n",
       "      <td>[H][C@]1(CO)CN(C)[C@]2([H])CC3=CN(C)C4=CC=CC(=...</td>\n",
       "      <td>2</td>\n",
       "    </tr>\n",
       "    <tr>\n",
       "      <th>2</th>\n",
       "      <td>289-95-2</td>\n",
       "      <td>C1=CN=CN=C1</td>\n",
       "      <td>3</td>\n",
       "    </tr>\n",
       "    <tr>\n",
       "      <th>3</th>\n",
       "      <td>77-78-1</td>\n",
       "      <td>COS(=O)(=O)OC</td>\n",
       "      <td>4</td>\n",
       "    </tr>\n",
       "    <tr>\n",
       "      <th>4</th>\n",
       "      <td>80-73-9</td>\n",
       "      <td>CN1CCN(C)C1=O</td>\n",
       "      <td>5</td>\n",
       "    </tr>\n",
       "  </tbody>\n",
       "</table>\n",
       "</div>"
      ],
      "text/plain": [
       "        CASRN                                             SMILES  RowID\n",
       "0  51581-32-9                             CN(C)C(=O)OC1=CN=CC=C1      1\n",
       "1  35155-28-3  [H][C@]1(CO)CN(C)[C@]2([H])CC3=CN(C)C4=CC=CC(=...      2\n",
       "2    289-95-2                                        C1=CN=CN=C1      3\n",
       "3     77-78-1                                      COS(=O)(=O)OC      4\n",
       "4     80-73-9                                      CN1CCN(C)C1=O      5"
      ]
     },
     "execution_count": 53,
     "metadata": {},
     "output_type": "execute_result"
    }
   ],
   "source": [
    "df_input.head()"
   ]
  },
  {
   "cell_type": "code",
   "execution_count": 54,
   "metadata": {},
   "outputs": [
    {
     "data": {
      "text/plain": [
       "((3368, 9), (3952, 3))"
      ]
     },
     "execution_count": 54,
     "metadata": {},
     "output_type": "execute_result"
    }
   ],
   "source": [
    "df_knime.shape, df_input.shape"
   ]
  },
  {
   "cell_type": "code",
   "execution_count": 55,
   "metadata": {},
   "outputs": [],
   "source": [
    "df_merged = df_knime.merge(df_input, on='RowID', how='left')"
   ]
  },
  {
   "cell_type": "code",
   "execution_count": 56,
   "metadata": {},
   "outputs": [
    {
     "data": {
      "text/html": [
       "<div>\n",
       "<style scoped>\n",
       "    .dataframe tbody tr th:only-of-type {\n",
       "        vertical-align: middle;\n",
       "    }\n",
       "\n",
       "    .dataframe tbody tr th {\n",
       "        vertical-align: top;\n",
       "    }\n",
       "\n",
       "    .dataframe thead th {\n",
       "        text-align: right;\n",
       "    }\n",
       "</style>\n",
       "<table border=\"1\" class=\"dataframe\">\n",
       "  <thead>\n",
       "    <tr style=\"text-align: right;\">\n",
       "      <th></th>\n",
       "      <th>RowID</th>\n",
       "      <th>Molecule name</th>\n",
       "      <th>Original_SMILES</th>\n",
       "      <th>Number of connected components</th>\n",
       "      <th>Canonical_QSARr</th>\n",
       "      <th>InChI_Code_QSARr</th>\n",
       "      <th>InChI Key_QSARr</th>\n",
       "      <th>Salt_Solvent</th>\n",
       "      <th>Salt_Solvent_ID</th>\n",
       "      <th>CASRN</th>\n",
       "      <th>SMILES</th>\n",
       "    </tr>\n",
       "  </thead>\n",
       "  <tbody>\n",
       "    <tr>\n",
       "      <th>0</th>\n",
       "      <td>1</td>\n",
       "      <td>Molecule_1</td>\n",
       "      <td>CN(C)C(=O)OC1C=CC=NC=1</td>\n",
       "      <td>1</td>\n",
       "      <td>CN(C)C(=O)OC1C=CC=NC=1</td>\n",
       "      <td>InChI=1S/C8H10N2O2/c1-10(2)8(11)12-7-4-3-5-9-6...</td>\n",
       "      <td>VZELUFSMNDBCBO-UHFFFAOYSA-N</td>\n",
       "      <td>NaN</td>\n",
       "      <td>0</td>\n",
       "      <td>51581-32-9</td>\n",
       "      <td>CN(C)C(=O)OC1=CN=CC=C1</td>\n",
       "    </tr>\n",
       "    <tr>\n",
       "      <th>1</th>\n",
       "      <td>2</td>\n",
       "      <td>Molecule_2</td>\n",
       "      <td>CN1C=C2CC3N(C)CC(CO)CC3(OC)C3C=CC=C1C=32</td>\n",
       "      <td>1</td>\n",
       "      <td>CN1C=C2CC3N(C)CC(CO)CC3(OC)C3C=CC=C1C=32</td>\n",
       "      <td>InChI=1S/C18H24N2O2/c1-19-10-13-7-16-18(22-38-...</td>\n",
       "      <td>LVXVIPZBNJSUKL-UHFFFAOYSA-N</td>\n",
       "      <td>NaN</td>\n",
       "      <td>0</td>\n",
       "      <td>35155-28-3</td>\n",
       "      <td>[H][C@]1(CO)CN(C)[C@]2([H])CC3=CN(C)C4=CC=CC(=...</td>\n",
       "    </tr>\n",
       "    <tr>\n",
       "      <th>2</th>\n",
       "      <td>3</td>\n",
       "      <td>Molecule_3</td>\n",
       "      <td>C1N=CC=CN=1</td>\n",
       "      <td>1</td>\n",
       "      <td>C1N=CC=CN=1</td>\n",
       "      <td>InChI=1S/C4H4N2/c1-2-5-4-6-3-1/h1-4H</td>\n",
       "      <td>CZPWVGJYEJSRLH-UHFFFAOYSA-N</td>\n",
       "      <td>NaN</td>\n",
       "      <td>0</td>\n",
       "      <td>289-95-2</td>\n",
       "      <td>C1=CN=CN=C1</td>\n",
       "    </tr>\n",
       "    <tr>\n",
       "      <th>3</th>\n",
       "      <td>4</td>\n",
       "      <td>Molecule_4</td>\n",
       "      <td>COS(=O)(=O)OC</td>\n",
       "      <td>1</td>\n",
       "      <td>COS(=O)(=O)OC</td>\n",
       "      <td>InChI=1S/C2H6O4S/c1-5-7(34)6-2/h1-2H3</td>\n",
       "      <td>VAYGXNSJCAHWJZ-UHFFFAOYSA-N</td>\n",
       "      <td>NaN</td>\n",
       "      <td>0</td>\n",
       "      <td>77-78-1</td>\n",
       "      <td>COS(=O)(=O)OC</td>\n",
       "    </tr>\n",
       "    <tr>\n",
       "      <th>4</th>\n",
       "      <td>5</td>\n",
       "      <td>Molecule_5</td>\n",
       "      <td>CN1CCN(C)C1=O</td>\n",
       "      <td>1</td>\n",
       "      <td>CN1CCN(C)C1=O</td>\n",
       "      <td>InChI=1S/C5H10N2O/c1-6-3-4-7(2)5(6)8/h3-4H21-2H3</td>\n",
       "      <td>CYSGHNMQYZDMIA-UHFFFAOYSA-N</td>\n",
       "      <td>NaN</td>\n",
       "      <td>0</td>\n",
       "      <td>80-73-9</td>\n",
       "      <td>CN1CCN(C)C1=O</td>\n",
       "    </tr>\n",
       "  </tbody>\n",
       "</table>\n",
       "</div>"
      ],
      "text/plain": [
       "   RowID Molecule name                           Original_SMILES   \n",
       "0      1    Molecule_1                    CN(C)C(=O)OC1C=CC=NC=1  \\\n",
       "1      2    Molecule_2  CN1C=C2CC3N(C)CC(CO)CC3(OC)C3C=CC=C1C=32   \n",
       "2      3    Molecule_3                               C1N=CC=CN=1   \n",
       "3      4    Molecule_4                             COS(=O)(=O)OC   \n",
       "4      5    Molecule_5                             CN1CCN(C)C1=O   \n",
       "\n",
       "   Number of connected components                           Canonical_QSARr   \n",
       "0                               1                    CN(C)C(=O)OC1C=CC=NC=1  \\\n",
       "1                               1  CN1C=C2CC3N(C)CC(CO)CC3(OC)C3C=CC=C1C=32   \n",
       "2                               1                               C1N=CC=CN=1   \n",
       "3                               1                             COS(=O)(=O)OC   \n",
       "4                               1                             CN1CCN(C)C1=O   \n",
       "\n",
       "                                    InChI_Code_QSARr   \n",
       "0  InChI=1S/C8H10N2O2/c1-10(2)8(11)12-7-4-3-5-9-6...  \\\n",
       "1  InChI=1S/C18H24N2O2/c1-19-10-13-7-16-18(22-38-...   \n",
       "2               InChI=1S/C4H4N2/c1-2-5-4-6-3-1/h1-4H   \n",
       "3              InChI=1S/C2H6O4S/c1-5-7(34)6-2/h1-2H3   \n",
       "4   InChI=1S/C5H10N2O/c1-6-3-4-7(2)5(6)8/h3-4H21-2H3   \n",
       "\n",
       "               InChI Key_QSARr Salt_Solvent  Salt_Solvent_ID       CASRN   \n",
       "0  VZELUFSMNDBCBO-UHFFFAOYSA-N          NaN                0  51581-32-9  \\\n",
       "1  LVXVIPZBNJSUKL-UHFFFAOYSA-N          NaN                0  35155-28-3   \n",
       "2  CZPWVGJYEJSRLH-UHFFFAOYSA-N          NaN                0    289-95-2   \n",
       "3  VAYGXNSJCAHWJZ-UHFFFAOYSA-N          NaN                0     77-78-1   \n",
       "4  CYSGHNMQYZDMIA-UHFFFAOYSA-N          NaN                0     80-73-9   \n",
       "\n",
       "                                              SMILES  \n",
       "0                             CN(C)C(=O)OC1=CN=CC=C1  \n",
       "1  [H][C@]1(CO)CN(C)[C@]2([H])CC3=CN(C)C4=CC=CC(=...  \n",
       "2                                        C1=CN=CN=C1  \n",
       "3                                      COS(=O)(=O)OC  \n",
       "4                                      CN1CCN(C)C1=O  "
      ]
     },
     "execution_count": 56,
     "metadata": {},
     "output_type": "execute_result"
    }
   ],
   "source": [
    "df_merged.head()"
   ]
  },
  {
   "cell_type": "code",
   "execution_count": 57,
   "metadata": {},
   "outputs": [
    {
     "data": {
      "text/plain": [
       "(3368, 11)"
      ]
     },
     "execution_count": 57,
     "metadata": {},
     "output_type": "execute_result"
    }
   ],
   "source": [
    "df_merged.shape"
   ]
  },
  {
   "cell_type": "code",
   "execution_count": 58,
   "metadata": {},
   "outputs": [
    {
     "name": "stdout",
     "output_type": "stream",
     "text": [
      "smiles matches =  1356\n"
     ]
    }
   ],
   "source": [
    "print('smiles matches = ', np.sum(df_merged['Original_SMILES'] == df_merged['SMILES']))"
   ]
  },
  {
   "cell_type": "code",
   "execution_count": 59,
   "metadata": {},
   "outputs": [
    {
     "data": {
      "text/html": [
       "<div>\n",
       "<style scoped>\n",
       "    .dataframe tbody tr th:only-of-type {\n",
       "        vertical-align: middle;\n",
       "    }\n",
       "\n",
       "    .dataframe tbody tr th {\n",
       "        vertical-align: top;\n",
       "    }\n",
       "\n",
       "    .dataframe thead th {\n",
       "        text-align: right;\n",
       "    }\n",
       "</style>\n",
       "<table border=\"1\" class=\"dataframe\">\n",
       "  <thead>\n",
       "    <tr style=\"text-align: right;\">\n",
       "      <th></th>\n",
       "      <th>RowID</th>\n",
       "      <th>Molecule name</th>\n",
       "      <th>Original_SMILES</th>\n",
       "      <th>Number of connected components</th>\n",
       "      <th>Canonical_QSARr</th>\n",
       "      <th>InChI_Code_QSARr</th>\n",
       "      <th>InChI Key_QSARr</th>\n",
       "      <th>Salt_Solvent</th>\n",
       "      <th>Salt_Solvent_ID</th>\n",
       "      <th>CASRN</th>\n",
       "      <th>SMILES</th>\n",
       "    </tr>\n",
       "  </thead>\n",
       "  <tbody>\n",
       "    <tr>\n",
       "      <th>0</th>\n",
       "      <td>1</td>\n",
       "      <td>Molecule_1</td>\n",
       "      <td>CN(C)C(=O)OC1C=CC=NC=1</td>\n",
       "      <td>1</td>\n",
       "      <td>CN(C)C(=O)OC1C=CC=NC=1</td>\n",
       "      <td>InChI=1S/C8H10N2O2/c1-10(2)8(11)12-7-4-3-5-9-6...</td>\n",
       "      <td>VZELUFSMNDBCBO-UHFFFAOYSA-N</td>\n",
       "      <td>NaN</td>\n",
       "      <td>0</td>\n",
       "      <td>51581-32-9</td>\n",
       "      <td>CN(C)C(=O)OC1=CN=CC=C1</td>\n",
       "    </tr>\n",
       "    <tr>\n",
       "      <th>1</th>\n",
       "      <td>2</td>\n",
       "      <td>Molecule_2</td>\n",
       "      <td>CN1C=C2CC3N(C)CC(CO)CC3(OC)C3C=CC=C1C=32</td>\n",
       "      <td>1</td>\n",
       "      <td>CN1C=C2CC3N(C)CC(CO)CC3(OC)C3C=CC=C1C=32</td>\n",
       "      <td>InChI=1S/C18H24N2O2/c1-19-10-13-7-16-18(22-38-...</td>\n",
       "      <td>LVXVIPZBNJSUKL-UHFFFAOYSA-N</td>\n",
       "      <td>NaN</td>\n",
       "      <td>0</td>\n",
       "      <td>35155-28-3</td>\n",
       "      <td>[H][C@]1(CO)CN(C)[C@]2([H])CC3=CN(C)C4=CC=CC(=...</td>\n",
       "    </tr>\n",
       "    <tr>\n",
       "      <th>2</th>\n",
       "      <td>3</td>\n",
       "      <td>Molecule_3</td>\n",
       "      <td>C1N=CC=CN=1</td>\n",
       "      <td>1</td>\n",
       "      <td>C1N=CC=CN=1</td>\n",
       "      <td>InChI=1S/C4H4N2/c1-2-5-4-6-3-1/h1-4H</td>\n",
       "      <td>CZPWVGJYEJSRLH-UHFFFAOYSA-N</td>\n",
       "      <td>NaN</td>\n",
       "      <td>0</td>\n",
       "      <td>289-95-2</td>\n",
       "      <td>C1=CN=CN=C1</td>\n",
       "    </tr>\n",
       "    <tr>\n",
       "      <th>5</th>\n",
       "      <td>6</td>\n",
       "      <td>Molecule_6</td>\n",
       "      <td>NC1C=CC(O)=CC=1[N+]([O-])=O</td>\n",
       "      <td>1</td>\n",
       "      <td>NC1C=CC(O)=CC=1[N+]([O-])=O</td>\n",
       "      <td>InChI=1S/C6H6N2O3/c7-5-2-1-4(9)3-6(5)8(10)11/h...</td>\n",
       "      <td>IQXUIDYRTHQTET-UHFFFAOYSA-N</td>\n",
       "      <td>NaN</td>\n",
       "      <td>0</td>\n",
       "      <td>610-81-1</td>\n",
       "      <td>NC1=C(C=C(O)C=C1)[N+]([O-])=O</td>\n",
       "    </tr>\n",
       "    <tr>\n",
       "      <th>6</th>\n",
       "      <td>7</td>\n",
       "      <td>Molecule_7</td>\n",
       "      <td>NCCNCCCN</td>\n",
       "      <td>1</td>\n",
       "      <td>NCCNCCCN</td>\n",
       "      <td>InChI=1S/C5H15N3/c6-2-1-4-8-5-3-7/h8H1-7H2</td>\n",
       "      <td>DTSDBGVDESRKKD-UHFFFAOYSA-N</td>\n",
       "      <td>NaN</td>\n",
       "      <td>0</td>\n",
       "      <td>13531-52-7</td>\n",
       "      <td>NCCCNCCN</td>\n",
       "    </tr>\n",
       "    <tr>\n",
       "      <th>...</th>\n",
       "      <td>...</td>\n",
       "      <td>...</td>\n",
       "      <td>...</td>\n",
       "      <td>...</td>\n",
       "      <td>...</td>\n",
       "      <td>...</td>\n",
       "      <td>...</td>\n",
       "      <td>...</td>\n",
       "      <td>...</td>\n",
       "      <td>...</td>\n",
       "      <td>...</td>\n",
       "    </tr>\n",
       "    <tr>\n",
       "      <th>3362</th>\n",
       "      <td>3940</td>\n",
       "      <td>Molecule_3940</td>\n",
       "      <td>NC(=N)O.ON(=O)=O</td>\n",
       "      <td>2</td>\n",
       "      <td>NC(=N)O</td>\n",
       "      <td>InChI=1S/CH4N2O/c2-1(3)4/h(H4234)</td>\n",
       "      <td>XSQUKJJJFZCRTK-UHFFFAOYSA-N</td>\n",
       "      <td>ON(=O)=O</td>\n",
       "      <td>1755</td>\n",
       "      <td>124-47-0</td>\n",
       "      <td>NC(O)=N.ON(=O)=O</td>\n",
       "    </tr>\n",
       "    <tr>\n",
       "      <th>3363</th>\n",
       "      <td>3942</td>\n",
       "      <td>Molecule_3942</td>\n",
       "      <td>[Zn+2].CCCCN(CCCC)C([S-])=S.CCCCN(CCCC)C([S-])=S</td>\n",
       "      <td>3</td>\n",
       "      <td>CCCCN(CCCC)C(S)=S</td>\n",
       "      <td>InChI=1S/C9H19NS2/c1-3-5-7-10(9(11)12)8-6-4-2/...</td>\n",
       "      <td>SZRLKIKBPASKQH-UHFFFAOYSA-N</td>\n",
       "      <td>[Zn+2]</td>\n",
       "      <td>300</td>\n",
       "      <td>136-23-2</td>\n",
       "      <td>[Zn++].CCCCN(CCCC)C([S-])=S.CCCCN(CCCC)C([S-])=S</td>\n",
       "    </tr>\n",
       "    <tr>\n",
       "      <th>3364</th>\n",
       "      <td>3943</td>\n",
       "      <td>Molecule_3943</td>\n",
       "      <td>[Zn+2].CCN(CC)C([S-])=S.CCN(CC)C([S-])=S</td>\n",
       "      <td>3</td>\n",
       "      <td>CCN(CC)C(S)=S</td>\n",
       "      <td>InChI=1S/C5H11NS2/c1-3-6(4-2)5(7)8/h3-4H21-2H3...</td>\n",
       "      <td>LMBWSYZSUOEYSN-UHFFFAOYSA-N</td>\n",
       "      <td>[Zn+2]</td>\n",
       "      <td>300</td>\n",
       "      <td>14324-55-1</td>\n",
       "      <td>[Zn++].CCN(CC)C([S-])=S.CCN(CC)C([S-])=S</td>\n",
       "    </tr>\n",
       "    <tr>\n",
       "      <th>3365</th>\n",
       "      <td>3944</td>\n",
       "      <td>Molecule_3944</td>\n",
       "      <td>[Zn+2].CN(C)C([S-])=S.CN(C)C([S-])=S</td>\n",
       "      <td>3</td>\n",
       "      <td>CN(C)C(S)=S</td>\n",
       "      <td>InChI=1S/C3H7NS2/c1-4(2)3(5)6/h1-2H3(H56)</td>\n",
       "      <td>MZGNSEAPZQGJRB-UHFFFAOYSA-N</td>\n",
       "      <td>[Zn+2]</td>\n",
       "      <td>300</td>\n",
       "      <td>137-30-4</td>\n",
       "      <td>[Zn++].CN(C)C([S-])=S.CN(C)C([S-])=S</td>\n",
       "    </tr>\n",
       "    <tr>\n",
       "      <th>3367</th>\n",
       "      <td>3950</td>\n",
       "      <td>Molecule_3950</td>\n",
       "      <td>[Zn+2].CCCCCCCCCCCCCCCCCC([O-])=O.CCCCCCCCCCCC...</td>\n",
       "      <td>3</td>\n",
       "      <td>CCCCCCCCCCCCCCCCCC(O)=O</td>\n",
       "      <td>InChI=1S/C18H36O2/c1-2-3-4-5-6-7-8-9-10-11-12-...</td>\n",
       "      <td>QIQXTHQIDYTFRH-UHFFFAOYSA-N</td>\n",
       "      <td>[Zn+2]</td>\n",
       "      <td>300</td>\n",
       "      <td>557-05-1</td>\n",
       "      <td>[Zn++].CCCCCCCCCCCCCCCCCC([O-])=O.CCCCCCCCCCCC...</td>\n",
       "    </tr>\n",
       "  </tbody>\n",
       "</table>\n",
       "<p>2012 rows × 11 columns</p>\n",
       "</div>"
      ],
      "text/plain": [
       "      RowID  Molecule name                                    Original_SMILES   \n",
       "0         1     Molecule_1                             CN(C)C(=O)OC1C=CC=NC=1  \\\n",
       "1         2     Molecule_2           CN1C=C2CC3N(C)CC(CO)CC3(OC)C3C=CC=C1C=32   \n",
       "2         3     Molecule_3                                        C1N=CC=CN=1   \n",
       "5         6     Molecule_6                        NC1C=CC(O)=CC=1[N+]([O-])=O   \n",
       "6         7     Molecule_7                                           NCCNCCCN   \n",
       "...     ...            ...                                                ...   \n",
       "3362   3940  Molecule_3940                                   NC(=N)O.ON(=O)=O   \n",
       "3363   3942  Molecule_3942   [Zn+2].CCCCN(CCCC)C([S-])=S.CCCCN(CCCC)C([S-])=S   \n",
       "3364   3943  Molecule_3943           [Zn+2].CCN(CC)C([S-])=S.CCN(CC)C([S-])=S   \n",
       "3365   3944  Molecule_3944               [Zn+2].CN(C)C([S-])=S.CN(C)C([S-])=S   \n",
       "3367   3950  Molecule_3950  [Zn+2].CCCCCCCCCCCCCCCCCC([O-])=O.CCCCCCCCCCCC...   \n",
       "\n",
       "      Number of connected components   \n",
       "0                                  1  \\\n",
       "1                                  1   \n",
       "2                                  1   \n",
       "5                                  1   \n",
       "6                                  1   \n",
       "...                              ...   \n",
       "3362                               2   \n",
       "3363                               3   \n",
       "3364                               3   \n",
       "3365                               3   \n",
       "3367                               3   \n",
       "\n",
       "                               Canonical_QSARr   \n",
       "0                       CN(C)C(=O)OC1C=CC=NC=1  \\\n",
       "1     CN1C=C2CC3N(C)CC(CO)CC3(OC)C3C=CC=C1C=32   \n",
       "2                                  C1N=CC=CN=1   \n",
       "5                  NC1C=CC(O)=CC=1[N+]([O-])=O   \n",
       "6                                     NCCNCCCN   \n",
       "...                                        ...   \n",
       "3362                                   NC(=N)O   \n",
       "3363                         CCCCN(CCCC)C(S)=S   \n",
       "3364                             CCN(CC)C(S)=S   \n",
       "3365                               CN(C)C(S)=S   \n",
       "3367                   CCCCCCCCCCCCCCCCCC(O)=O   \n",
       "\n",
       "                                       InChI_Code_QSARr   \n",
       "0     InChI=1S/C8H10N2O2/c1-10(2)8(11)12-7-4-3-5-9-6...  \\\n",
       "1     InChI=1S/C18H24N2O2/c1-19-10-13-7-16-18(22-38-...   \n",
       "2                  InChI=1S/C4H4N2/c1-2-5-4-6-3-1/h1-4H   \n",
       "5     InChI=1S/C6H6N2O3/c7-5-2-1-4(9)3-6(5)8(10)11/h...   \n",
       "6            InChI=1S/C5H15N3/c6-2-1-4-8-5-3-7/h8H1-7H2   \n",
       "...                                                 ...   \n",
       "3362                  InChI=1S/CH4N2O/c2-1(3)4/h(H4234)   \n",
       "3363  InChI=1S/C9H19NS2/c1-3-5-7-10(9(11)12)8-6-4-2/...   \n",
       "3364  InChI=1S/C5H11NS2/c1-3-6(4-2)5(7)8/h3-4H21-2H3...   \n",
       "3365          InChI=1S/C3H7NS2/c1-4(2)3(5)6/h1-2H3(H56)   \n",
       "3367  InChI=1S/C18H36O2/c1-2-3-4-5-6-7-8-9-10-11-12-...   \n",
       "\n",
       "                  InChI Key_QSARr Salt_Solvent  Salt_Solvent_ID       CASRN   \n",
       "0     VZELUFSMNDBCBO-UHFFFAOYSA-N          NaN                0  51581-32-9  \\\n",
       "1     LVXVIPZBNJSUKL-UHFFFAOYSA-N          NaN                0  35155-28-3   \n",
       "2     CZPWVGJYEJSRLH-UHFFFAOYSA-N          NaN                0    289-95-2   \n",
       "5     IQXUIDYRTHQTET-UHFFFAOYSA-N          NaN                0    610-81-1   \n",
       "6     DTSDBGVDESRKKD-UHFFFAOYSA-N          NaN                0  13531-52-7   \n",
       "...                           ...          ...              ...         ...   \n",
       "3362  XSQUKJJJFZCRTK-UHFFFAOYSA-N     ON(=O)=O             1755    124-47-0   \n",
       "3363  SZRLKIKBPASKQH-UHFFFAOYSA-N       [Zn+2]              300    136-23-2   \n",
       "3364  LMBWSYZSUOEYSN-UHFFFAOYSA-N       [Zn+2]              300  14324-55-1   \n",
       "3365  MZGNSEAPZQGJRB-UHFFFAOYSA-N       [Zn+2]              300    137-30-4   \n",
       "3367  QIQXTHQIDYTFRH-UHFFFAOYSA-N       [Zn+2]              300    557-05-1   \n",
       "\n",
       "                                                 SMILES  \n",
       "0                                CN(C)C(=O)OC1=CN=CC=C1  \n",
       "1     [H][C@]1(CO)CN(C)[C@]2([H])CC3=CN(C)C4=CC=CC(=...  \n",
       "2                                           C1=CN=CN=C1  \n",
       "5                         NC1=C(C=C(O)C=C1)[N+]([O-])=O  \n",
       "6                                              NCCCNCCN  \n",
       "...                                                 ...  \n",
       "3362                                   NC(O)=N.ON(=O)=O  \n",
       "3363   [Zn++].CCCCN(CCCC)C([S-])=S.CCCCN(CCCC)C([S-])=S  \n",
       "3364           [Zn++].CCN(CC)C([S-])=S.CCN(CC)C([S-])=S  \n",
       "3365               [Zn++].CN(C)C([S-])=S.CN(C)C([S-])=S  \n",
       "3367  [Zn++].CCCCCCCCCCCCCCCCCC([O-])=O.CCCCCCCCCCCC...  \n",
       "\n",
       "[2012 rows x 11 columns]"
      ]
     },
     "execution_count": 59,
     "metadata": {},
     "output_type": "execute_result"
    }
   ],
   "source": [
    "df_merged[np.logical_not(df_merged['Original_SMILES'] == df_merged['SMILES'])]"
   ]
  },
  {
   "cell_type": "code",
   "execution_count": 60,
   "metadata": {},
   "outputs": [],
   "source": [
    "filter = ['CASRN', 'Canonical_QSARr']\n",
    "df = df_merged[filter].drop_duplicates(subset=['Canonical_QSARr'])"
   ]
  },
  {
   "cell_type": "code",
   "execution_count": 61,
   "metadata": {},
   "outputs": [
    {
     "data": {
      "text/html": [
       "<div>\n",
       "<style scoped>\n",
       "    .dataframe tbody tr th:only-of-type {\n",
       "        vertical-align: middle;\n",
       "    }\n",
       "\n",
       "    .dataframe tbody tr th {\n",
       "        vertical-align: top;\n",
       "    }\n",
       "\n",
       "    .dataframe thead th {\n",
       "        text-align: right;\n",
       "    }\n",
       "</style>\n",
       "<table border=\"1\" class=\"dataframe\">\n",
       "  <thead>\n",
       "    <tr style=\"text-align: right;\">\n",
       "      <th></th>\n",
       "      <th>CASRN</th>\n",
       "      <th>Canonical_QSARr</th>\n",
       "    </tr>\n",
       "  </thead>\n",
       "  <tbody>\n",
       "    <tr>\n",
       "      <th>0</th>\n",
       "      <td>51581-32-9</td>\n",
       "      <td>CN(C)C(=O)OC1C=CC=NC=1</td>\n",
       "    </tr>\n",
       "    <tr>\n",
       "      <th>1</th>\n",
       "      <td>35155-28-3</td>\n",
       "      <td>CN1C=C2CC3N(C)CC(CO)CC3(OC)C3C=CC=C1C=32</td>\n",
       "    </tr>\n",
       "    <tr>\n",
       "      <th>2</th>\n",
       "      <td>289-95-2</td>\n",
       "      <td>C1N=CC=CN=1</td>\n",
       "    </tr>\n",
       "    <tr>\n",
       "      <th>3</th>\n",
       "      <td>77-78-1</td>\n",
       "      <td>COS(=O)(=O)OC</td>\n",
       "    </tr>\n",
       "    <tr>\n",
       "      <th>4</th>\n",
       "      <td>80-73-9</td>\n",
       "      <td>CN1CCN(C)C1=O</td>\n",
       "    </tr>\n",
       "  </tbody>\n",
       "</table>\n",
       "</div>"
      ],
      "text/plain": [
       "        CASRN                           Canonical_QSARr\n",
       "0  51581-32-9                    CN(C)C(=O)OC1C=CC=NC=1\n",
       "1  35155-28-3  CN1C=C2CC3N(C)CC(CO)CC3(OC)C3C=CC=C1C=32\n",
       "2    289-95-2                               C1N=CC=CN=1\n",
       "3     77-78-1                             COS(=O)(=O)OC\n",
       "4     80-73-9                             CN1CCN(C)C1=O"
      ]
     },
     "execution_count": 61,
     "metadata": {},
     "output_type": "execute_result"
    }
   ],
   "source": [
    "df.head()"
   ]
  },
  {
   "cell_type": "code",
   "execution_count": 62,
   "metadata": {},
   "outputs": [
    {
     "data": {
      "text/plain": [
       "(2997, 2)"
      ]
     },
     "execution_count": 62,
     "metadata": {},
     "output_type": "execute_result"
    }
   ],
   "source": [
    "df.shape"
   ]
  },
  {
   "cell_type": "code",
   "execution_count": 63,
   "metadata": {},
   "outputs": [],
   "source": [
    "file = loc + 'pos.smiles.knime.out.csv'\n",
    "# df.to_csv(file, index=False)"
   ]
  },
  {
   "cell_type": "code",
   "execution_count": null,
   "metadata": {},
   "outputs": [],
   "source": []
  },
  {
   "cell_type": "markdown",
   "metadata": {},
   "source": [
    "#### Removing dups after combining"
   ]
  },
  {
   "cell_type": "code",
   "execution_count": 64,
   "metadata": {},
   "outputs": [],
   "source": [
    "loc = 'D:\\\\School\\\\Semester3\\\\Seminar - Reproducibility\\\\seminar-toxicity\\\\data\\\\eye-irritation\\\\'"
   ]
  },
  {
   "cell_type": "code",
   "execution_count": 65,
   "metadata": {},
   "outputs": [],
   "source": [
    "file = loc + 'combined.csv'\n",
    "df_combined = pd.read_csv(file)"
   ]
  },
  {
   "cell_type": "code",
   "execution_count": 66,
   "metadata": {},
   "outputs": [
    {
     "data": {
      "text/html": [
       "<div>\n",
       "<style scoped>\n",
       "    .dataframe tbody tr th:only-of-type {\n",
       "        vertical-align: middle;\n",
       "    }\n",
       "\n",
       "    .dataframe tbody tr th {\n",
       "        vertical-align: top;\n",
       "    }\n",
       "\n",
       "    .dataframe thead th {\n",
       "        text-align: right;\n",
       "    }\n",
       "</style>\n",
       "<table border=\"1\" class=\"dataframe\">\n",
       "  <thead>\n",
       "    <tr style=\"text-align: right;\">\n",
       "      <th></th>\n",
       "      <th>CASRN</th>\n",
       "      <th>SMILES</th>\n",
       "      <th>Activity</th>\n",
       "    </tr>\n",
       "  </thead>\n",
       "  <tbody>\n",
       "    <tr>\n",
       "      <th>0</th>\n",
       "      <td>51581-32-9</td>\n",
       "      <td>CN(C)C(=O)OC1C=CC=NC=1</td>\n",
       "      <td>1</td>\n",
       "    </tr>\n",
       "    <tr>\n",
       "      <th>1</th>\n",
       "      <td>35155-28-3</td>\n",
       "      <td>CN1C=C2CC3N(C)CC(CO)CC3(OC)C3C=CC=C1C=32</td>\n",
       "      <td>1</td>\n",
       "    </tr>\n",
       "    <tr>\n",
       "      <th>2</th>\n",
       "      <td>289-95-2</td>\n",
       "      <td>C1N=CC=CN=1</td>\n",
       "      <td>1</td>\n",
       "    </tr>\n",
       "    <tr>\n",
       "      <th>3</th>\n",
       "      <td>77-78-1</td>\n",
       "      <td>COS(=O)(=O)OC</td>\n",
       "      <td>1</td>\n",
       "    </tr>\n",
       "    <tr>\n",
       "      <th>4</th>\n",
       "      <td>80-73-9</td>\n",
       "      <td>CN1CCN(C)C1=O</td>\n",
       "      <td>1</td>\n",
       "    </tr>\n",
       "  </tbody>\n",
       "</table>\n",
       "</div>"
      ],
      "text/plain": [
       "        CASRN                                    SMILES  Activity\n",
       "0  51581-32-9                    CN(C)C(=O)OC1C=CC=NC=1         1\n",
       "1  35155-28-3  CN1C=C2CC3N(C)CC(CO)CC3(OC)C3C=CC=C1C=32         1\n",
       "2    289-95-2                               C1N=CC=CN=1         1\n",
       "3     77-78-1                             COS(=O)(=O)OC         1\n",
       "4     80-73-9                             CN1CCN(C)C1=O         1"
      ]
     },
     "execution_count": 66,
     "metadata": {},
     "output_type": "execute_result"
    }
   ],
   "source": [
    "df_combined.head()"
   ]
  },
  {
   "cell_type": "code",
   "execution_count": 67,
   "metadata": {},
   "outputs": [
    {
     "data": {
      "text/plain": [
       "(4567, 3)"
      ]
     },
     "execution_count": 67,
     "metadata": {},
     "output_type": "execute_result"
    }
   ],
   "source": [
    "df_combined.shape"
   ]
  },
  {
   "cell_type": "code",
   "execution_count": 68,
   "metadata": {},
   "outputs": [],
   "source": [
    "df_unique = df_combined.drop_duplicates(subset=['SMILES'], keep=False)"
   ]
  },
  {
   "cell_type": "code",
   "execution_count": 69,
   "metadata": {},
   "outputs": [
    {
     "data": {
      "text/plain": [
       "(3877, 3)"
      ]
     },
     "execution_count": 69,
     "metadata": {},
     "output_type": "execute_result"
    }
   ],
   "source": [
    "df_unique.shape"
   ]
  },
  {
   "cell_type": "code",
   "execution_count": 70,
   "metadata": {},
   "outputs": [
    {
     "name": "stdout",
     "output_type": "stream",
     "text": [
      "pos class = (2652, 3)\n",
      "neg class = (1225, 3)\n"
     ]
    }
   ],
   "source": [
    "print('pos class =', df_unique[df_unique['Activity'] == 1].shape)\n",
    "print('neg class =', df_unique[df_unique['Activity'] == 0].shape)"
   ]
  },
  {
   "cell_type": "code",
   "execution_count": 71,
   "metadata": {},
   "outputs": [],
   "source": [
    "outfile = loc + 'data.csv'\n",
    "# df_unique.to_csv(outfile, index=False)"
   ]
  },
  {
   "cell_type": "code",
   "execution_count": null,
   "metadata": {},
   "outputs": [],
   "source": []
  }
 ],
 "metadata": {
  "kernelspec": {
   "display_name": "nextAID",
   "language": "python",
   "name": "nextaid"
  },
  "language_info": {
   "codemirror_mode": {
    "name": "ipython",
    "version": 3
   },
   "file_extension": ".py",
   "mimetype": "text/x-python",
   "name": "python",
   "nbconvert_exporter": "python",
   "pygments_lexer": "ipython3",
   "version": "3.10.6"
  }
 },
 "nbformat": 4,
 "nbformat_minor": 2
}
